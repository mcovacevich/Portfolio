{
 "cells": [
  {
   "cell_type": "markdown",
   "metadata": {
    "cell_id": "2390b08024a24ea2b5a3e4b4bd4d5829",
    "deepnote_cell_type": "markdown",
    "id": "8X7ztGgl5EVR"
   },
   "source": [
    "[![Open In Colab](https://colab.research.google.com/assets/colab-badge.svg)](https://colab.research.google.com/github/aprendizaje-automatico-dc-uba-ar/material/blob/main/tp/01_aprendizaje_supervisado/Enunciado.ipynb)\n",
    "\n",
    "# Trabajo Práctico -  Aprendizaje supervisado\n",
    "### Clasificación de expresiones genómicas\n",
    "\n",
    "<span style=\"color: red;\">**Fecha de entrega: Martes 08 de octubre del 2024 - hasta las 23:55hs.**\n",
    "\n",
    "<span style=\"color: red;\">**Fecha de entrega intermedia: Martes 01 de octubre del 2024 - hasta las 23:55hs.**\n",
    "</span>\n",
    "\n",
    "## Introducción\n",
    "\n",
    "En el mundo actual, distintas disciplinas científicas empiezan, cada vez más, a interactuar con el fin de potenciar sus descubrimientos. En este caso dos grupos de investigación de [CONICET](https://www.conicet.gov.ar/) se embarcan en la combinación entre biología y informática para abordar la detección temprana y el pronóstico preciso de enfermedades como el cáncer. Este proyecto combina las tecnologías de secuenciación de nueva generación ([_NGS_](https://es.wikipedia.org/wiki/Secuenciaci%C3%B3n_paralela_masiva), por sus siglas en inglés) con la potencia de la inteligencia artificial. El enfoque se centra en un dataset único que abarca mediciones de [_ARN_](https://es.wikipedia.org/wiki/ARN_mensajero) de 200 [_genes_](https://es.wikipedia.org/wiki/Gen), recopiladas de pacientes con lesiones [_pre-tumorales_](https://en.wikipedia.org/wiki/Hyperplasia). Este conjunto de datos se convierte en una valiosa fuente de información para entender cómo las células en estado de hiperplasia pueden evolucionar hacia [_tumores malignos_](https://en.wikipedia.org/wiki/Neoplasm), una transformación que ha desconcertado a la ciencia durante décadas.\n",
    "\n",
    "La hiperplasia, es un fenómeno en el que las células experimentan un crecimiento anormal y descontrolado, es un punto de partida crucial en nuestro análisis. ¿Cómo y por qué algunas células que experimentan hiperplasia se convierten en células cancerosas, mientras que otras no? Esta pregunta es el corazón de nuestra investigación. Para responderla se realizo un estudio donde se obtuvieron muestras de distintos tipos de hiperplasias de pacientes con antecedentes familiares y lesiones pre tumorales. Este grupo de pacientes, o cohorte, fue monitoreado periodicamente durante los siguientes 5 años buscando indicios de neoplasias o nuevas hiperplasias más agresivas. Con las muestras obtenidas en este estudio se realizo un [_biobanco_](https://en.wikipedia.org/wiki/Biobank) con las mediciones que habitualmente se hacen en la construccion de este tipo de [_plataformas_](https://xena.ucsc.edu/). Cada muestra fue etiquetada como **_buen pronostico_**, si no hubo indicios de nuevas hiperplasias o similares; contrariamente se etiquetaron como de **_mal pronostico_** si hubo una recaida.\n",
    "\n",
    "Este trabajo se concentra en un panel de genes, especificamente en la expresion de 200 genes que se creen tienen un papel crucial en la transformacion tumoral y su etiqueta correspondiente.\n",
    "\n",
    "En concreto:\n",
    "\n",
    "Tendrán un archivo `.csv` en donde se almacenan:\n",
    "  - una matriz de datos `X` de $500$ filas en donde cada fila $x^{(i)}$ representa un vector de $200$ características de cada instancia. Es decir, $\\textbf{x}^{(i)} = x_1^{(i)}, \\dots, x_{200}^{(i)}$ con $i$ entre $1$ y $500$.\n",
    "  - una columna llamada `target` que representa un vector de $500$ posiciones con dos posibles valores: `True` (ó 1, es decir, tiene buen pronostico) y `False` (ó 0, tiene mal pronostico).\n",
    "\n",
    "Los datos están en esta [carpeta](https://github.com/aprendizaje-automatico-dc-uba-ar/material/tree/main/tp/01_aprendizaje_supervisado/datos).\n",
    "\n",
    "Por otra parte, tendrán disponibles un conjunto de instancias sin etiquetas, que utilizaremos para comprobar la calidad de sus resultados (ver Ejercicio 5).\n",
    "\n",
    "**Recomendamos fuertemente leer primero todo el enunciado del trabajo antes de empezar a trabajar sobre el problema propuesto.**\n",
    "\n",
    "---\n",
    "\n",
    "### Sobre el informe\n",
    "\n",
    "Para este trabajo deberán entregar, además del código de las pruebas y experimentos que realicen, un informe en el que deberan seleccionar, para cada apartado, sus resultados acompañado de un texto que explique, reflexione, justifique y conluya dicho contenido.\n",
    "\n",
    "Cada ejercicio indica el largo máximo del texto que se puede incluir. Los gráficos no están contados en dicho espacio.\n",
    "Cada gráfico incluido debe contar con:\n",
    "  \n",
    "  - nombres de los ejes,\n",
    "  - título,\n",
    "  - leyenda autocontenida,\n",
    "  - debe ser referenciado desde el texto, ya que su inclusión se da porque aporta a la discusión del trabajo.\n",
    "\n",
    "**El informe no puede superar un máximo de 8 carillas (contando gráficos) o 4 hojas más carátula.** No se corregirán trabajos que no cumplan con esta consigna.\n",
    "\n",
    "---"
   ]
  },
  {
   "cell_type": "code",
   "execution_count": 1,
   "metadata": {
    "cell_id": "f673ef3feea640f9bee8654f9565f689",
    "deepnote_cell_type": "code",
    "deepnote_to_be_reexecuted": false,
    "execution_context_id": "8b493b1a-9f14-4824-905c-7cc684144bc2",
    "execution_millis": 1,
    "execution_start": 1728405243951,
    "id": "61FrjzK95IYj",
    "source_hash": "5274cba9"
   },
   "outputs": [],
   "source": [
    "#from google.colab import drive\n",
    "#drive.mount('/content/drive')"
   ]
  },
  {
   "cell_type": "markdown",
   "metadata": {
    "cell_id": "eee50c284c594711aedcc7c1f018a32e",
    "deepnote_cell_type": "markdown",
    "id": "SzO8mfm05EVU"
   },
   "source": [
    "## Ejercicio 1\n",
    "\n",
    "### Separación de datos\n",
    "\n",
    "Contarán con una cantidad limitada de datos, por lo cual es importante tomar una buena decisión en el momento de empezar a utilizarlos.\n",
    "\n",
    "Evaluar y justificar cómo separarán sus datos para desarrollo y para evaluación. ¿Qué consideraciones tuvieron en cuenta para realizar esta división?\n",
    "\n",
    "**Importante**: en este punto no está permitido dividir la base de datos utilizando la función `train_test_split` de sklearn. Deben decidir e implementar la separación."
   ]
  },
  {
   "cell_type": "markdown",
   "metadata": {
    "cell_id": "4ce17732a9b14e1ab10f14eb42afb737",
    "deepnote_cell_type": "markdown",
    "id": "vvQvIwHd5EVV"
   },
   "source": [
    "## Ejercicio 2\n",
    "\n",
    "\n",
    "### Construcción de modelos\n",
    "\n",
    "Para este punto, la tarea consiste en construir y evaluar modelos de tipo **árbol de decisión**. Además, obtener una **estimación realista de la performance** de los mismos.\n",
    "\n",
    "1. Entrenar un árbol de decisión con altura máxima 3 y el resto de los hiperparámetros en default.\n",
    "\n",
    "1. Estimar la performance del modelo utilizando _K-fold cross validation_ con `K=5`, con las métricas _Accuracy_, _Area Under the Precision-Recall Curve (AUPRC)_, y _Area Under the Receiver Operating Characteristic Curve (AUCROC)_.\n",
    "\n",
    "   En esta oportunidad se va a pedir además de calcular las métricas para cada fold por separado y su promedio, que hagan el cálculo del score global (como vimos en clase), sólo para los folds de validación.\n",
    "   \n",
    "   Reportar el resultado en una tabla similar a:\n",
    "\n",
    "      <table>\n",
    "      <thead>\n",
    "      <tr>\n",
    "      <th align=\"center\">Permutación</th>\n",
    "      <th>Accuracy (training)</th>\n",
    "      <th>Accuracy (validación)</th>\n",
    "      <th>AUPRC (training)</th>\n",
    "      <th>AUPRC (validación)</th>\n",
    "      <th>AUC ROC (training)</th>\n",
    "      <th>AUC ROC (validación)</th>\n",
    "      </tr>\n",
    "      </thead>\n",
    "      <tbody>\n",
    "      <tr>\n",
    "      <td align=\"center\">1</td>\n",
    "      <td></td>\n",
    "      <td></td>\n",
    "      <td></td>\n",
    "      <td></td>\n",
    "      <td></td>\n",
    "      <td></td>\n",
    "      </tr>\n",
    "      <tr>\n",
    "      <td align=\"center\">2</td>\n",
    "      <td></td>\n",
    "      <td></td>\n",
    "      <td></td>\n",
    "      <td></td>\n",
    "      <td></td>\n",
    "      <td></td>\n",
    "      </tr>\n",
    "      <tr>\n",
    "      <td align=\"center\">3</td>\n",
    "      <td></td>\n",
    "      <td></td>\n",
    "      <td></td>\n",
    "      <td></td>\n",
    "      <td></td>\n",
    "      <td></td>\n",
    "      </tr>\n",
    "      <tr>\n",
    "      <td align=\"center\">4</td>\n",
    "      <td></td>\n",
    "      <td></td>\n",
    "      <td></td>\n",
    "      <td></td>\n",
    "      <td></td>\n",
    "      <td></td>\n",
    "      </tr>\n",
    "      <tr>\n",
    "      <td align=\"center\">5</td>\n",
    "      <td></td>\n",
    "      <td></td>\n",
    "      <td></td>\n",
    "      <td></td>\n",
    "      <td></td>\n",
    "      <td></td>\n",
    "      </tr>\n",
    "      <tr>\n",
    "      <td align=\"center\">Promedios</td>\n",
    "      <td></td>\n",
    "      <td></td>\n",
    "      <td></td>\n",
    "      <td></td>\n",
    "      <td></td>\n",
    "      <td></td>\n",
    "      </tr>\n",
    "      <td align=\"center\">Global</td>\n",
    "      <td>(NO) </td>\n",
    "      <td></td>\n",
    "      <td>(NO) </td>\n",
    "      <td></td>\n",
    "      <td>(NO) </td>\n",
    "      <td></td>\n",
    "      </tr>\n",
    "      </tbody>\n",
    "      </table>    \n",
    "  \n",
    "   **Importante**: de acá en más sólamente utilizaremos el score promedio cuando hagamos _K-fold cross-validation_.\n",
    "\n",
    "1. Explorar las siguientes combinaciones de parámetros para  árboles de decisión (siguiendo con $k-fold$ con $k=5$) utilizando [ParameterGrid](https://scikit-learn.org/stable/modules/generated/sklearn.model_selection.ParameterGrid.html) de _scikit learn_. No está permitido utilizar `GridSearchCV` en este ejercicio.\n",
    "\n",
    "   <table>\n",
    "   <thead>\n",
    "   <tr>\n",
    "   <th align=\"center\">Altura máxima</th>\n",
    "   <th align=\"center\">Criterio de corte</th>\n",
    "   <th>Accuracy (training)</th>\n",
    "   <th>Accuracy (validación)</th>\n",
    "   </tr>\n",
    "   </thead>\n",
    "   <tbody><tr>\n",
    "   <td align=\"center\">3</td>\n",
    "   <td align=\"center\">Gini</td>\n",
    "   <td></td>\n",
    "   <td></td>\n",
    "   </tr>\n",
    "   <tr>\n",
    "   <td align=\"center\">5</td>\n",
    "   <td align=\"center\">Gini</td>\n",
    "   <td></td>\n",
    "   <td></td>\n",
    "   </tr>\n",
    "   <tr>\n",
    "   <td align=\"center\">Infinito</td>\n",
    "   <td align=\"center\">Gini</td>\n",
    "   <td></td>\n",
    "   <td></td>\n",
    "   </tr>\n",
    "   <tr>\n",
    "   <td align=\"center\">3</td>\n",
    "   <td align=\"center\">Entropía</td>\n",
    "   <td></td>\n",
    "   <td></td>\n",
    "   </tr>\n",
    "   <tr>\n",
    "   <td align=\"center\">5</td>\n",
    "   <td align=\"center\">Entropía</td>\n",
    "   <td></td>\n",
    "   <td></td>\n",
    "   </tr>\n",
    "   <tr>\n",
    "   <td align=\"center\">Infinito</td>\n",
    "   <td align=\"center\">Entropía</td>\n",
    "   <td></td>\n",
    "   <td></td>\n",
    "   </tr>\n",
    "   </tbody></table>\n",
    "\n",
    "1. ¿Qué conclusiones se pueden sacar de estas tablas?  "
   ]
  },
  {
   "cell_type": "markdown",
   "metadata": {
    "cell_id": "06f46b5cc53d4df19408116bae6fdfe7",
    "deepnote_cell_type": "markdown",
    "id": "TU6uJTmU5EVY"
   },
   "source": [
    "## Ejercicio 3\n",
    "\n",
    "### Comparación de algoritmos\n",
    "\n",
    "Se pide explorar distintas combinaciones de algoritmos de aprendizaje con diferentes configuraciones con el objetivo de **encontrar el mejor modelo** de cada familia de buscar la performance óptima. Para este ejercicio realizar una experimentación utilizando [`RandomizedSearchCV`](https://scikit-learn.org/stable/modules/generated/sklearn.model_selection.RandomizedSearchCV.html). Como métrica de performance usar AUCROC resultante de 5-fold cross-validation.\n",
    "\n",
    "Hiperparámetros_: Revisar la documentación de cada uno de los hiperparámetros para entender qué posibles hiperparámetros impacten de manera positiva en la construcción del algoritmo.\n",
    "\n",
    "Documentación extra sobre [`Tuning hyper-parameters`](https://scikit-learn.org/stable/modules/grid_search.html), leer hasta 3.2.2.\n",
    "\n",
    "1. Algoritmos a probar:\n",
    "  - Árboles de decisión. Mínimo 4 hiperparámetros.\n",
    "  - KNN (k-vecinos más cercanos). Mínimo 3 hiperparámetros.\n",
    "  - SVM (Support vector machine). Mínimo 2 hiperparámetros.\n",
    "\n",
    "Detallar los hiperparámetros elegidos para cada algoritmo y explicar la razón del espacio de búsqueda considerado para cada uno de estos, ¿cuántas iteraciones usaron?. A su vez, reportar la performance asociada de aquellos que consideren relevantes (al menos la mejor combinación para cada algoritmo).\n",
    "\n",
    "2. Compare los resultados obtenidos en el ejercicio anterior con los siguientes modelos con sus hiperparámetros default.\n",
    "\n",
    "  - LDA (Linear discriminant analysis)\n",
    "  - Naïve Bayes\n",
    "\n",
    "¿Qué resultados obtuvo? ¿Qué hiperparámetros podrían ser relevantes explorar en estos modelos? ¿Por qué?\n",
    "\n",
    "3. ¿Cuál fue el mejor modelo y con qué configuración? Explicar por qué creería que dio mejor (recordando qué hace cada algoritmo y con qué tipo de datos están trabajando)."
   ]
  },
  {
   "cell_type": "markdown",
   "metadata": {
    "cell_id": "6557b6226bd8492a936463a80a56566e",
    "deepnote_cell_type": "markdown",
    "id": "R24B4FZH5EVY"
   },
   "source": [
    "## Ejercicio 4\n",
    "### Diagnóstico Sesgo-Varianza.\n",
    "\n",
    "<span style=\"color: red;\">(no realizar hasta la clase _Sesgo y Varianza_)</span>\n",
    "\n",
    "En este punto, se pide inspeccionar **tres** de sus mejores modelos encontrados hasta ahora de cada familia de modelos: la mejor configuración para el árbol de decisión y la mejor configuración para SVM. Para ello:\n",
    "\n",
    "1. Graficar curvas de complejidad para cada modelo, variando la profundidad en el caso de árboles, y el hiperparámetro C en el caso de SVM. Diagnosticar cómo afectan al sesgo y a la varianza esos dos hiperparámetros.\n",
    "2. Graficar curvas de aprendizaje para cada modelo pero ahora incluya LDA. En base a estas curvas, sacar conclusiones sobre si los algoritmos parecen haber alcanzado su límite, o bien si aumentar la cantidad de datos debería ayudar.\n",
    "3. Construir un modelo **RandomForest** con 200 árboles. Explorar para qué sirve el hiperparámetro max_features y cómo afecta a la performance del algoritmo mediante una curva de complejidad. Explicar por qué creen que se dieron los resultados obtenidos. Por último, graficar una curva de aprendizaje sobre los parámetros elegidos para determinar si sería útil o no conseguir más datos.\n",
    "\n",
    "\n",
    "**Atención**: Tener en cuenta que debemos seguir utilizando AUC ROC como métrica para estas curvas.\n"
   ]
  },
  {
   "cell_type": "markdown",
   "metadata": {
    "cell_id": "6f59fe264abf43bc88d6d1278c15710e",
    "deepnote_cell_type": "markdown",
    "id": "_xW0DNYX5EVZ"
   },
   "source": [
    "## Ejercicio 5:\n",
    "### Evaluación de performance\n",
    "\n",
    "- La entrega del trabajo estará acompañada de una evaluación en la cual deberán poner a prueba su mejor modelo y sobre todo, su capacidad para estimar sus resultados.\n",
    "\n",
    "- Su tarea será estimar la performance (AUCROC) que tendrá su mejor modelo en datos de evaluación (X_held_out).\n",
    "\n",
    "- Para ello, deberán predecir las **probabilidades** de las distintas instancias con su modelo, enviarnos dichas probabilidades junto a una estimación con 4 decimales de cuál será el AUCROC resultante y calcularemos el resultado real. Consideraremos que el **mejor modelo será el que se encuentre más cerca del valor real que calcularemos luego de la entrega**.\n",
    "\n",
    "- Recomendamos no perder de vista esta evaluación/competencia durante el desarrollo del TP, sobretodo en el momento de separar los datos en los primeros puntos.\n",
    "\n",
    "- Para que podamos evaluar la performance, junto con la entrega del informe, deberán enviar un archivo con el numero de grupo con dos digitos en formato csv con la columna `output` y el valor obtenido con 4 decimales (se subirá un ejemplo cuando se publiquen los datos de la competencia) y un valor esperado de AUCROC: `GG_y_pred_held_out_AUCROC`.\n",
    "\n",
    "    - Ej.: el grupo tres cree que obtuvo un valor de 0.7321 de AUCROC deberá submitear un archivo llamado: `03_y_pred_held_out_7321.csv`.\n",
    "\n",
    "- Los datos podrán encontrarlos en este [link](https://github.com/aprendizaje-automatico-dc-uba-ar/material/tree/main/tp/01_aprendizaje_supervisado/datos).\n",
    "\n",
    "- Las decisiones de este punto pueden desarrollarse hasta en una carilla, aunque con media debería alcanzar.\n"
   ]
  },
  {
   "cell_type": "markdown",
   "metadata": {
    "cell_id": "e9eccc3cdac84fd4bfa77c99e5c3c87c",
    "deepnote_cell_type": "markdown",
    "id": "P0ry2vLN5EVZ"
   },
   "source": [
    "## Ejercicio 6:\n",
    "### Conclusiones\n",
    "\n",
    "Escribir como mínimo en un párrafo, una conclusión del trabajo realizado, incluyendo problemas encontrados y\n",
    "aspectos no incluidos en el enunciado que hayan sido abordadas durante el desarrollo."
   ]
  },
  {
   "cell_type": "markdown",
   "metadata": {
    "cell_id": "10aa540dd07d43b0a0ef92f62f257c33",
    "deepnote_cell_type": "markdown",
    "id": "PgTMkG0_5EVa"
   },
   "source": [
    "---\n",
    "## Entregables\n",
    "- Contarán con un esqueleto en formato Jupyter Notebook en donde podrán intercalar celdas para reportar y responder a los ítems de cada ejercicio.\n",
    "- Los entregrables serán\n",
    "    - Un informe en formato .pdf (**digital**) que responda a los ítems de este enunciado respetando la cantidad de espacio máximo por cada ítem. Nombrarlo siguiendo el formato `GG_Nombre_de_grupo`\n",
    "    - Adjuntar el notebook final en formatos .pdf e .ipynb. Es necesario que los resultados puedan reproducirse al ejecutar todas las celdas en orden (verificarlo haceindo: Kernel -> Restart and Run All).\n",
    "    - Las predicciones del *held out* del punto 5 en formato csv.\n",
    "- Habŕa una entrega intermedia obligatoria que deberán hacer antes del 01 de octubre de 2024 a las 23:55hs. Para esta entrega deberán enviar el código que resuelve los primeros 3 ejercicios.\n",
    "- La **fecha** y **hora límite** de entrega está determinada en el campus de la materia.\n",
    "- El trabajo deberá elaborarse en grupos de hasta 3 personas (3 preferentemente).\n",
    "- Se podrán pedir pruebas de integridad y autoría; es decir, verificar que la salida solicitada es fruto del modelo presentado y que el modelo fue construido según lo requerido en este enunciado.\n",
    "- La evaluación será grupal y se basará en la calidad del informe (presentación, claridad, prolijidad); la originalidad, practicidad y coherencia técnica de la solución; la corrección y solidez de las pruebas realizadas.\n"
   ]
  },
  {
   "cell_type": "markdown",
   "metadata": {
    "cell_id": "3c5689592054475e8a7900569d7b796e",
    "deepnote_cell_type": "markdown",
    "id": "cc_0JQHa5EVb"
   },
   "source": [
    "### Importante: sobre el uso de ChatGPT y grandes modelos de lenguaje\n",
    "\n",
    "En este trabajo no estará explícitamente prohibido pero si fuertemente desaconsejado, consideramos a este trabajo práctico una importante herramienta de aprendizaje donde el uso de GPT puede ser perjudicial. En caso de usarlo se pide aclararlo en el informe y especificar cómo y en donde se utilizó. Así como expresar su opinión sobre la respuesta generada por el modelo pudiendo estar a favor o en contra de lo propuesto por este. Pueden adjuntar el link a la conversación con el modelo."
   ]
  },
  {
   "cell_type": "markdown",
   "metadata": {
    "cell_id": "8135c7f57e1e487dbc3ffec99d4a0cec",
    "deepnote_cell_type": "markdown",
    "id": "CpewuARS5EVc"
   },
   "source": [
    "**Nota**: Agradecemos a [Martín García Sola](https://ar.linkedin.com/in/martin-e-garcia-sola) por la asistencia biológica en la confección de este Trabajo Práctico."
   ]
  },
  {
   "cell_type": "code",
   "execution_count": 2,
   "metadata": {
    "cell_id": "39a26175233040009abd61dc02c91dc5",
    "deepnote_cell_type": "code",
    "deepnote_to_be_reexecuted": false,
    "execution_context_id": "8b493b1a-9f14-4824-905c-7cc684144bc2",
    "execution_millis": 1485,
    "execution_start": 1728405244003,
    "source_hash": "33f287d"
   },
   "outputs": [],
   "source": [
    "import pandas as pd\n",
    "import random as rd\n",
    "import numpy as np\n",
    "import sklearn as sk\n",
    "from sklearn.tree import DecisionTreeClassifier\n",
    "from sklearn.neighbors import KNeighborsClassifier\n",
    "from sklearn.model_selection import KFold, cross_val_score, cross_validate, cross_val_predict,RandomizedSearchCV, validation_curve, learning_curve, StratifiedKFold\n",
    "from sklearn.metrics import average_precision_score, roc_auc_score, precision_score, accuracy_score\n",
    "from sklearn.svm import SVC\n",
    "from sklearn.discriminant_analysis import LinearDiscriminantAnalysis\n",
    "from sklearn.naive_bayes import GaussianNB\n",
    "from sklearn.ensemble import RandomForestClassifier\n",
    "import matplotlib.pyplot as plt\n",
    "from scipy.stats import randint, uniform"
   ]
  },
  {
   "cell_type": "code",
   "execution_count": 3,
   "metadata": {
    "cell_id": "ee933f90510146338f030d47e20f0f5c",
    "deepnote_cell_type": "code",
    "deepnote_to_be_reexecuted": false,
    "execution_context_id": "8b493b1a-9f14-4824-905c-7cc684144bc2",
    "execution_millis": 195,
    "execution_start": 1728405245538,
    "id": "1xwcdxle6C5m",
    "source_hash": "8b870920"
   },
   "outputs": [],
   "source": [
    "# Ejercicio 1 - Separar los datos\n",
    "df = pd.read_csv(\"data.csv\")"
   ]
  },
  {
   "cell_type": "code",
   "execution_count": 4,
   "metadata": {
    "cell_id": "12975872cdf24f03935c4bb03c72ffad",
    "colab": {
     "base_uri": "https://localhost:8080/",
     "height": 361
    },
    "deepnote_cell_type": "code",
    "deepnote_table_loading": false,
    "deepnote_table_state": {
     "conditionalFilters": [],
     "filters": [],
     "pageIndex": 0,
     "pageSize": 100,
     "sortBy": []
    },
    "execution_context_id": "8b493b1a-9f14-4824-905c-7cc684144bc2",
    "execution_millis": 1,
    "execution_start": 1728405245782,
    "id": "bfer8CA675fc",
    "outputId": "cd3e9903-0009-433a-cb43-238297a18a90",
    "source_hash": "307c8dbb"
   },
   "outputs": [],
   "source": [
    "rd.seed(123)\n",
    "\n",
    "clase1 = df[df[\"target\"]==1]\n",
    "clase0 = df[df[\"target\"]==0]\n",
    "\n",
    "dev = pd.concat([clase1.iloc[13:], clase0.iloc[37:]])\n",
    "test = pd.concat([clase1.iloc[:13],clase0.iloc[:37]])\n",
    "# Describir el porque esa decisión: mantener el tamaño del train lo mas grande posible y mantener la proporcion"
   ]
  },
  {
   "cell_type": "markdown",
   "metadata": {
    "cell_id": "1f2ac4bc84de44e8a86a6e1d91c7e9f8",
    "deepnote_cell_type": "text-cell-h1",
    "formattedRanges": []
   },
   "source": [
    "# 2"
   ]
  },
  {
   "cell_type": "markdown",
   "metadata": {
    "cell_id": "01f5474688de428d853f88f50d55eadb",
    "deepnote_cell_type": "text-cell-h2",
    "formattedRanges": []
   },
   "source": [
    "## 2.1"
   ]
  },
  {
   "cell_type": "code",
   "execution_count": 5,
   "metadata": {
    "cell_id": "27547c03eb7b4d3993d2e6ac65d45d25",
    "deepnote_cell_type": "code",
    "execution_context_id": "8b493b1a-9f14-4824-905c-7cc684144bc2",
    "execution_millis": 1,
    "execution_start": 1728405245834,
    "id": "G5vdyZL6FWgP",
    "source_hash": "fb923bb0"
   },
   "outputs": [],
   "source": [
    "# Development Set => Train Set | Validation Set\n",
    "X_dev = dev[dev.columns[:-1]]\n",
    "y_dev =  dev[\"target\"]\n",
    "\n",
    "# Test Set - Eval Set - Hold Out Set - Held Out Set - Control Set\n",
    "X_test = test[test.columns[:-1]]\n",
    "y_test = test[\"target\"]\n",
    "\n",
    "#arbol = DecisionTreeClassifier(max_depth=3)\n",
    "#arbol.fit(X_dev, y_dev)\n",
    "\n",
    "# Prediction no hace falta ahora\n",
    "#Y_pred = arbol.predict(test[test.columns[:-1]])"
   ]
  },
  {
   "cell_type": "markdown",
   "metadata": {
    "cell_id": "09d1d3932287491d8d7831af62bcc2db",
    "deepnote_cell_type": "text-cell-h2",
    "formattedRanges": []
   },
   "source": [
    "## 2.2"
   ]
  },
  {
   "cell_type": "code",
   "execution_count": 6,
   "metadata": {
    "cell_id": "53b42ceb89d94406bd918013ea99aee6",
    "deepnote_cell_type": "code",
    "deepnote_to_be_reexecuted": false,
    "execution_context_id": "8b493b1a-9f14-4824-905c-7cc684144bc2",
    "execution_millis": 1,
    "execution_start": 1728405245886,
    "source_hash": "16ca3a24"
   },
   "outputs": [],
   "source": [
    "# Definimos los splits para los datos\n",
    "splits = 5\n",
    "kfold = KFold(n_splits=splits, shuffle=True, random_state=23)\n",
    "# Se crea el arbol de decisión\n",
    "tree = DecisionTreeClassifier(max_depth=3, random_state=23)"
   ]
  },
  {
   "cell_type": "code",
   "execution_count": 7,
   "metadata": {
    "cell_id": "15a9136f7b524ddca778a5056e581962",
    "deepnote_cell_type": "code",
    "execution_context_id": "8b493b1a-9f14-4824-905c-7cc684144bc2",
    "execution_millis": 1,
    "execution_start": 1728405245938,
    "source_hash": "53a4d429"
   },
   "outputs": [],
   "source": [
    "def fold_partition(dev, kfold):\n",
    "    folds = []\n",
    "    for train_index, val_index in kfold.split(dev):\n",
    "        X_train = dev.iloc[train_index][dev.columns[:-1]]\n",
    "        X_val = dev.iloc[val_index][dev.columns[:-1]]\n",
    "        y_train = dev.iloc[train_index][\"target\"]\n",
    "        y_val = dev.iloc[val_index][\"target\"]\n",
    "        folds.append((X_train, X_val, y_train, y_val, val_index))\n",
    "    return folds"
   ]
  },
  {
   "cell_type": "code",
   "execution_count": 8,
   "metadata": {
    "cell_id": "77a6eaea5eeb40d0b0301803283d1d1f",
    "deepnote_cell_type": "code",
    "execution_context_id": "8b493b1a-9f14-4824-905c-7cc684144bc2",
    "execution_millis": 1,
    "execution_start": 1728405245990,
    "source_hash": "bb18b0cd"
   },
   "outputs": [],
   "source": [
    "listPredictions = np.zeros(len(y_dev))\n",
    "probaPredictions = np.zeros(len(y_dev))"
   ]
  },
  {
   "cell_type": "code",
   "execution_count": 9,
   "metadata": {
    "cell_id": "c108b61219634c4691bdfd9409c25b0a",
    "deepnote_cell_type": "code",
    "execution_context_id": "8b493b1a-9f14-4824-905c-7cc684144bc2",
    "execution_millis": 330,
    "execution_start": 1728405246042,
    "source_hash": "752402f4"
   },
   "outputs": [],
   "source": [
    "#Calculamos todas las metricas score\n",
    "folds = fold_partition(dev, kfold)\n",
    "\n",
    "accuracy_scores = []\n",
    "accuracy_scores_train = []\n",
    "\n",
    "aucroc_scores = []\n",
    "aucroc_scores_train = []\n",
    "\n",
    "apr_scores = []\n",
    "apr_scores_train = []\n",
    "for X_train, X_val, y_train, y_val, val_index in folds:\n",
    "\n",
    "    tree.fit(X_train, y_train)\n",
    "\n",
    "    train_pred = tree.predict(X_train)\n",
    "    val_pred = tree.predict(X_val)\n",
    "    n_val = len(y_val)\n",
    "    n_train = len(y_train)\n",
    "\n",
    "    accuracy_scores.append(sum([x_i == y_i for x_i, y_i in zip(val_pred, y_val)])/n_val)\n",
    "    accuracy_scores_train.append(sum([x_i == y_i for x_i, y_i in zip(train_pred, y_train)])/n_train)\n",
    "\n",
    "    y_prob = tree.predict_proba(X_val)[:,1] \n",
    "    y_prob_train = tree.predict_proba(X_train)[:,1]\n",
    "\n",
    "    aucroc_scores.append(roc_auc_score(y_val, y_prob))\n",
    "    aucroc_scores_train.append(roc_auc_score(y_train, y_prob_train))\n",
    "\n",
    "    apr_scores.append(average_precision_score(y_val, y_prob))\n",
    "    apr_scores_train.append(average_precision_score(y_train, y_prob_train))\n",
    "\n",
    "    listPredictions[val_index] = tree.predict(X_val) #Para el global\n",
    "    probaPredictions[val_index] = tree.predict_proba(X_val)[:,1] #Para el global"
   ]
  },
  {
   "cell_type": "code",
   "execution_count": 10,
   "metadata": {
    "cell_id": "ef894ae1c3c44d94b8293eac9c59818b",
    "deepnote_cell_type": "code",
    "execution_context_id": "8b493b1a-9f14-4824-905c-7cc684144bc2",
    "execution_millis": 1,
    "execution_start": 1728405246422,
    "source_hash": "f3ef9755"
   },
   "outputs": [
    {
     "name": "stdout",
     "output_type": "stream",
     "text": [
      "accuracy_global: 0.74\n",
      "roc_global: 0.6795846852693057\n",
      "prc_global: 0.4231223346928563\n"
     ]
    }
   ],
   "source": [
    "print(f\"accuracy_global: {accuracy_score(y_dev, listPredictions)}\")\n",
    "print(f\"roc_global: {roc_auc_score(y_dev, probaPredictions)}\")\n",
    "print(f\"prc_global: {average_precision_score(y_dev, probaPredictions)}\")"
   ]
  },
  {
   "cell_type": "code",
   "execution_count": 11,
   "metadata": {
    "cell_id": "b713dc9bd24b4d9896742013342cf090",
    "deepnote_cell_type": "code",
    "execution_context_id": "8b493b1a-9f14-4824-905c-7cc684144bc2",
    "execution_millis": 1,
    "execution_start": 1728405246470,
    "source_hash": "fa2cc627"
   },
   "outputs": [],
   "source": [
    "accuracy_global = accuracy_score(y_dev, listPredictions)\n",
    "auc_roc_global = roc_auc_score(y_dev, probaPredictions)\n",
    "auprc_global = average_precision_score(y_dev, probaPredictions)"
   ]
  },
  {
   "cell_type": "code",
   "execution_count": 12,
   "metadata": {
    "cell_id": "da9406ff210e4db59ec6234f04db0ede",
    "deepnote_cell_type": "code",
    "execution_context_id": "8b493b1a-9f14-4824-905c-7cc684144bc2",
    "execution_millis": 0,
    "execution_start": 1728405246531,
    "source_hash": "ce437cd1"
   },
   "outputs": [
    {
     "data": {
      "text/plain": [
       "'\\nprecision_cross_validate_result = cross_validate(tree, X_dev, y_dev, cv=kfold, scoring=\\'precision\\', return_train_score=True)\\nrecall_cross_validate_result = cross_validate(tree, X_dev, y_dev, cv=kfold, scoring=\\'recall\\', return_train_score=True)\\n\\nprecision_score = precision_cross_validate_result[\"test_score\"]\\nrecall_score = recall_cross_validate_result[\"test_score\"]\\n\\nprecision_recall = 2*((precision_score*recall_score)/(precision_score+recall_score))\\nprecision_recall'"
      ]
     },
     "execution_count": 12,
     "metadata": {},
     "output_type": "execute_result"
    }
   ],
   "source": [
    "# PRECISION Y RECALL SCORE\n",
    "\"\"\"\n",
    "precision_cross_validate_result = cross_validate(tree, X_dev, y_dev, cv=kfold, scoring='precision', return_train_score=True)\n",
    "recall_cross_validate_result = cross_validate(tree, X_dev, y_dev, cv=kfold, scoring='recall', return_train_score=True)\n",
    "\n",
    "precision_score = precision_cross_validate_result[\"test_score\"]\n",
    "recall_score = recall_cross_validate_result[\"test_score\"]\n",
    "\n",
    "precision_recall = 2*((precision_score*recall_score)/(precision_score+recall_score))\n",
    "precision_recall\"\"\""
   ]
  },
  {
   "cell_type": "code",
   "execution_count": 13,
   "metadata": {
    "cell_id": "53d28662317e40ee9aaf1d60207aced8",
    "deepnote_cell_type": "code",
    "execution_context_id": "8b493b1a-9f14-4824-905c-7cc684144bc2",
    "execution_millis": 11,
    "execution_start": 1728405246586,
    "source_hash": "75ccf096"
   },
   "outputs": [
    {
     "data": {
      "application/vnd.deepnote.dataframe.v3+json": {
       "column_count": 7,
       "columns": [
        {
         "dtype": "object",
         "name": "Permutación",
         "stats": {
          "categories": [
           {
            "count": 1,
            "name": "0.0"
           },
           {
            "count": 1,
            "name": "1.0"
           },
           {
            "count": 5,
            "name": "5 others"
           }
          ],
          "nan_count": 0,
          "unique_count": 7
         }
        },
        {
         "dtype": "object",
         "name": "Accuracy (training)",
         "stats": {
          "categories": [
           {
            "count": 1,
            "name": "0.8416666666666667"
           },
           {
            "count": 1,
            "name": "0.8583333333333333"
           },
           {
            "count": 5,
            "name": "5 others"
           }
          ],
          "nan_count": 0,
          "unique_count": 7
         }
        },
        {
         "dtype": "float64",
         "name": "Accuracy (validación)",
         "stats": {
          "histogram": [
           {
            "bin_end": 0.6822222222222222,
            "bin_start": 0.6666666666666666,
            "count": 1
           },
           {
            "bin_end": 0.6977777777777777,
            "bin_start": 0.6822222222222222,
            "count": 1
           },
           {
            "bin_end": 0.7133333333333333,
            "bin_start": 0.6977777777777777,
            "count": 0
           },
           {
            "bin_end": 0.7288888888888888,
            "bin_start": 0.7133333333333333,
            "count": 0
           },
           {
            "bin_end": 0.7444444444444445,
            "bin_start": 0.7288888888888888,
            "count": 2
           },
           {
            "bin_end": 0.76,
            "bin_start": 0.7444444444444445,
            "count": 1
           },
           {
            "bin_end": 0.7755555555555556,
            "bin_start": 0.76,
            "count": 1
           },
           {
            "bin_end": 0.7911111111111111,
            "bin_start": 0.7755555555555556,
            "count": 0
           },
           {
            "bin_end": 0.8066666666666666,
            "bin_start": 0.7911111111111111,
            "count": 0
           },
           {
            "bin_end": 0.8222222222222222,
            "bin_start": 0.8066666666666666,
            "count": 1
           }
          ],
          "max": "0.8222222222222222",
          "min": "0.6666666666666666",
          "nan_count": 0,
          "unique_count": 6
         }
        },
        {
         "dtype": "object",
         "name": "AUPRC (training)",
         "stats": {
          "categories": [
           {
            "count": 1,
            "name": "0.7217801844433618"
           },
           {
            "count": 1,
            "name": "0.6914131544874829"
           },
           {
            "count": 5,
            "name": "5 others"
           }
          ],
          "nan_count": 0,
          "unique_count": 7
         }
        },
        {
         "dtype": "float64",
         "name": "AUPRC (validación)",
         "stats": {
          "histogram": [
           {
            "bin_end": 0.34028592624504106,
            "bin_start": 0.3212495151102621,
            "count": 1
           },
           {
            "bin_end": 0.35932233737982006,
            "bin_start": 0.34028592624504106,
            "count": 1
           },
           {
            "bin_end": 0.378358748514599,
            "bin_start": 0.35932233737982006,
            "count": 0
           },
           {
            "bin_end": 0.397395159649378,
            "bin_start": 0.378358748514599,
            "count": 0
           },
           {
            "bin_end": 0.41643157078415693,
            "bin_start": 0.397395159649378,
            "count": 0
           },
           {
            "bin_end": 0.4354679819189359,
            "bin_start": 0.41643157078415693,
            "count": 2
           },
           {
            "bin_end": 0.4545043930537148,
            "bin_start": 0.4354679819189359,
            "count": 1
           },
           {
            "bin_end": 0.4735408041884938,
            "bin_start": 0.4545043930537148,
            "count": 0
           },
           {
            "bin_end": 0.4925772153232728,
            "bin_start": 0.4735408041884938,
            "count": 0
           },
           {
            "bin_end": 0.5116136264580518,
            "bin_start": 0.4925772153232728,
            "count": 2
           }
          ],
          "max": "0.5116136264580518",
          "min": "0.3212495151102621",
          "nan_count": 0,
          "unique_count": 7
         }
        },
        {
         "dtype": "object",
         "name": "AUC ROC (training)",
         "stats": {
          "categories": [
           {
            "count": 1,
            "name": "0.849313446969697"
           },
           {
            "count": 1,
            "name": "0.8462000912143953"
           },
           {
            "count": 5,
            "name": "5 others"
           }
          ],
          "nan_count": 0,
          "unique_count": 7
         }
        },
        {
         "dtype": "float64",
         "name": "AUC ROC (validación)",
         "stats": {
          "histogram": [
           {
            "bin_end": 0.640431035097223,
            "bin_start": 0.6297257227575982,
            "count": 1
           },
           {
            "bin_end": 0.6511363474368478,
            "bin_start": 0.640431035097223,
            "count": 0
           },
           {
            "bin_end": 0.6618416597764726,
            "bin_start": 0.6511363474368478,
            "count": 2
           },
           {
            "bin_end": 0.6725469721160974,
            "bin_start": 0.6618416597764726,
            "count": 0
           },
           {
            "bin_end": 0.6832522844557222,
            "bin_start": 0.6725469721160974,
            "count": 2
           },
           {
            "bin_end": 0.693957596795347,
            "bin_start": 0.6832522844557222,
            "count": 0
           },
           {
            "bin_end": 0.7046629091349718,
            "bin_start": 0.693957596795347,
            "count": 0
           },
           {
            "bin_end": 0.7153682214745966,
            "bin_start": 0.7046629091349718,
            "count": 0
           },
           {
            "bin_end": 0.7260735338142214,
            "bin_start": 0.7153682214745966,
            "count": 1
           },
           {
            "bin_end": 0.7367788461538461,
            "bin_start": 0.7260735338142214,
            "count": 1
           }
          ],
          "max": "0.7367788461538461",
          "min": "0.6297257227575982",
          "nan_count": 0,
          "unique_count": 7
         }
        },
        {
         "dtype": "int64",
         "name": "_deepnote_index_column"
        }
       ],
       "row_count": 7,
       "rows": [
        {
         "AUC ROC (training)": "0.849313446969697",
         "AUC ROC (validación)": 0.6297257227575982,
         "AUPRC (training)": "0.7217801844433618",
         "AUPRC (validación)": 0.3212495151102621,
         "Accuracy (training)": "0.8416666666666667",
         "Accuracy (validación)": 0.6666666666666666,
         "Permutación": "0.0",
         "_deepnote_index_column": 0
        },
        {
         "AUC ROC (training)": "0.8462000912143953",
         "AUC ROC (validación)": 0.7367788461538461,
         "AUPRC (training)": "0.6914131544874829",
         "AUPRC (validación)": 0.5116136264580518,
         "Accuracy (training)": "0.8583333333333333",
         "Accuracy (validación)": 0.7666666666666667,
         "Permutación": "1.0",
         "_deepnote_index_column": 1
        },
        {
         "AUC ROC (training)": "0.827131408320245",
         "AUC ROC (validación)": 0.6554144385026738,
         "AUPRC (training)": "0.659277498911557",
         "AUPRC (validación)": 0.35261828814460394,
         "Accuracy (training)": "0.8333333333333334",
         "Accuracy (validación)": 0.7555555555555555,
         "Permutación": "2.0",
         "_deepnote_index_column": 2
        },
        {
         "AUC ROC (training)": "0.8329348124338523",
         "AUC ROC (validación)": 0.7249228395061728,
         "AUPRC (training)": "0.6930646254010456",
         "AUPRC (validación)": 0.4389850889850889,
         "Accuracy (training)": "0.8472222222222222",
         "Accuracy (validación)": 0.8222222222222222,
         "Permutación": "3.0",
         "_deepnote_index_column": 3
        },
        {
         "AUC ROC (training)": "0.8199144385026738",
         "AUC ROC (validación)": 0.6569444444444444,
         "AUPRC (training)": "0.6077858071002284",
         "AUPRC (validación)": 0.5044756225479117,
         "Accuracy (training)": "0.8305555555555556",
         "Accuracy (validación)": 0.6888888888888889,
         "Permutación": "4.0",
         "_deepnote_index_column": 4
        },
        {
         "AUC ROC (training)": "0.8350988394881729",
         "AUC ROC (validación)": 0.6807572582729471,
         "AUPRC (training)": "0.6746642540687352",
         "AUPRC (validación)": 0.42578842824918367,
         "Accuracy (training)": "0.8422222222222222",
         "Accuracy (validación)": 0.74,
         "Permutación": "Promedio",
         "_deepnote_index_column": 5
        },
        {
         "AUC ROC (training)": "(No)",
         "AUC ROC (validación)": 0.6795846852693057,
         "AUPRC (training)": "(No)",
         "AUPRC (validación)": 0.4231223346928563,
         "Accuracy (training)": "(No)",
         "Accuracy (validación)": 0.74,
         "Permutación": "Global",
         "_deepnote_index_column": 6
        }
       ]
      },
      "text/html": [
       "<div>\n",
       "<style scoped>\n",
       "    .dataframe tbody tr th:only-of-type {\n",
       "        vertical-align: middle;\n",
       "    }\n",
       "\n",
       "    .dataframe tbody tr th {\n",
       "        vertical-align: top;\n",
       "    }\n",
       "\n",
       "    .dataframe thead th {\n",
       "        text-align: right;\n",
       "    }\n",
       "</style>\n",
       "<table border=\"1\" class=\"dataframe\">\n",
       "  <thead>\n",
       "    <tr style=\"text-align: right;\">\n",
       "      <th></th>\n",
       "      <th>Permutación</th>\n",
       "      <th>Accuracy (training)</th>\n",
       "      <th>Accuracy (validación)</th>\n",
       "      <th>AUPRC (training)</th>\n",
       "      <th>AUPRC (validación)</th>\n",
       "      <th>AUC ROC (training)</th>\n",
       "      <th>AUC ROC (validación)</th>\n",
       "    </tr>\n",
       "  </thead>\n",
       "  <tbody>\n",
       "    <tr>\n",
       "      <th>0</th>\n",
       "      <td>0.0</td>\n",
       "      <td>0.841667</td>\n",
       "      <td>0.666667</td>\n",
       "      <td>0.72178</td>\n",
       "      <td>0.321250</td>\n",
       "      <td>0.849313</td>\n",
       "      <td>0.629726</td>\n",
       "    </tr>\n",
       "    <tr>\n",
       "      <th>1</th>\n",
       "      <td>1.0</td>\n",
       "      <td>0.858333</td>\n",
       "      <td>0.766667</td>\n",
       "      <td>0.691413</td>\n",
       "      <td>0.511614</td>\n",
       "      <td>0.8462</td>\n",
       "      <td>0.736779</td>\n",
       "    </tr>\n",
       "    <tr>\n",
       "      <th>2</th>\n",
       "      <td>2.0</td>\n",
       "      <td>0.833333</td>\n",
       "      <td>0.755556</td>\n",
       "      <td>0.659277</td>\n",
       "      <td>0.352618</td>\n",
       "      <td>0.827131</td>\n",
       "      <td>0.655414</td>\n",
       "    </tr>\n",
       "    <tr>\n",
       "      <th>3</th>\n",
       "      <td>3.0</td>\n",
       "      <td>0.847222</td>\n",
       "      <td>0.822222</td>\n",
       "      <td>0.693065</td>\n",
       "      <td>0.438985</td>\n",
       "      <td>0.832935</td>\n",
       "      <td>0.724923</td>\n",
       "    </tr>\n",
       "    <tr>\n",
       "      <th>4</th>\n",
       "      <td>4.0</td>\n",
       "      <td>0.830556</td>\n",
       "      <td>0.688889</td>\n",
       "      <td>0.607786</td>\n",
       "      <td>0.504476</td>\n",
       "      <td>0.819914</td>\n",
       "      <td>0.656944</td>\n",
       "    </tr>\n",
       "    <tr>\n",
       "      <th>5</th>\n",
       "      <td>Promedio</td>\n",
       "      <td>0.842222</td>\n",
       "      <td>0.740000</td>\n",
       "      <td>0.674664</td>\n",
       "      <td>0.425788</td>\n",
       "      <td>0.835099</td>\n",
       "      <td>0.680757</td>\n",
       "    </tr>\n",
       "    <tr>\n",
       "      <th>6</th>\n",
       "      <td>Global</td>\n",
       "      <td>(No)</td>\n",
       "      <td>0.740000</td>\n",
       "      <td>(No)</td>\n",
       "      <td>0.423122</td>\n",
       "      <td>(No)</td>\n",
       "      <td>0.679585</td>\n",
       "    </tr>\n",
       "  </tbody>\n",
       "</table>\n",
       "</div>"
      ],
      "text/plain": [
       "  Permutación Accuracy (training)  Accuracy (validación) AUPRC (training)  \\\n",
       "0         0.0            0.841667               0.666667          0.72178   \n",
       "1         1.0            0.858333               0.766667         0.691413   \n",
       "2         2.0            0.833333               0.755556         0.659277   \n",
       "3         3.0            0.847222               0.822222         0.693065   \n",
       "4         4.0            0.830556               0.688889         0.607786   \n",
       "5    Promedio            0.842222               0.740000         0.674664   \n",
       "6      Global                (No)               0.740000             (No)   \n",
       "\n",
       "   AUPRC (validación) AUC ROC (training)  AUC ROC (validación)  \n",
       "0            0.321250           0.849313              0.629726  \n",
       "1            0.511614             0.8462              0.736779  \n",
       "2            0.352618           0.827131              0.655414  \n",
       "3            0.438985           0.832935              0.724923  \n",
       "4            0.504476           0.819914              0.656944  \n",
       "5            0.425788           0.835099              0.680757  \n",
       "6            0.423122               (No)              0.679585  "
      ]
     },
     "metadata": {},
     "output_type": "display_data"
    }
   ],
   "source": [
    "metricas = pd.DataFrame(columns=['Permutación', 'Accuracy (training)', 'Accuracy (validación)', 'AUPRC (training)','AUPRC (validación)','AUC ROC (training)','AUC ROC (validación)'])\n",
    "for i in range(splits):\n",
    "    metricas.loc[len(metricas)] = [int(i), accuracy_scores_train[i], accuracy_scores[i], apr_scores_train[i],apr_scores[i],aucroc_scores_train[i],aucroc_scores[i]]    \n",
    "metricas.loc[len(metricas)] = [\"Promedio\", np.mean(accuracy_scores_train), np.mean(accuracy_scores),np.mean(apr_scores_train),np.mean(apr_scores),np.mean(aucroc_scores_train),np.mean(aucroc_scores)]\n",
    "metricas.loc[len(metricas)] = [\"Global\", \"(No)\", accuracy_global,'(No)',auprc_global,'(No)',auc_roc_global]\n",
    "display(metricas)"
   ]
  },
  {
   "cell_type": "markdown",
   "metadata": {
    "cell_id": "96f5a23517c84746b686fb19c62c13f6",
    "deepnote_cell_type": "text-cell-h2",
    "formattedRanges": []
   },
   "source": [
    "## 2.3"
   ]
  },
  {
   "cell_type": "code",
   "execution_count": 14,
   "metadata": {
    "cell_id": "302acc3409184836b7fc17d04d821d11",
    "deepnote_cell_type": "code",
    "execution_context_id": "8b493b1a-9f14-4824-905c-7cc684144bc2",
    "execution_millis": 1858,
    "execution_start": 1728405246650,
    "source_hash": "89302d2c"
   },
   "outputs": [
    {
     "name": "stdout",
     "output_type": "stream",
     "text": [
      "{'fit_time': array([0.04132295, 0.03382683, 0.0314908 , 0.02960205, 0.0265553 ]), 'score_time': array([0.0072279 , 0.00778198, 0.0069313 , 0.00665641, 0.00593901]), 'test_score': array([0.66666667, 0.76666667, 0.76666667, 0.82222222, 0.68888889]), 'train_score': array([0.84166667, 0.85833333, 0.83333333, 0.84722222, 0.83055556])}\n",
      "{'fit_time': array([0.04156828, 0.03749442, 0.0395031 , 0.03636718, 0.0357399 ]), 'score_time': array([0.00572491, 0.00746059, 0.0055697 , 0.0060885 , 0.00545859]), 'test_score': array([0.67777778, 0.7       , 0.72222222, 0.78888889, 0.75555556]), 'train_score': array([0.95555556, 0.95      , 0.94722222, 0.94166667, 0.93333333])}\n",
      "{'fit_time': array([0.06120992, 0.06539392, 0.07926202, 0.06201053, 0.06133795]), 'score_time': array([0.00608516, 0.00605679, 0.01190758, 0.00735879, 0.01050472]), 'test_score': array([0.71111111, 0.67777778, 0.72222222, 0.77777778, 0.72222222]), 'train_score': array([1., 1., 1., 1., 1.])}\n",
      "{'fit_time': array([0.04819989, 0.03423047, 0.03362012, 0.03574181, 0.04188156]), 'score_time': array([0.00553632, 0.00974464, 0.00834203, 0.01105928, 0.01053929]), 'test_score': array([0.83333333, 0.67777778, 0.78888889, 0.84444444, 0.67777778]), 'train_score': array([0.80277778, 0.83611111, 0.81111111, 0.82222222, 0.80555556])}\n",
      "{'fit_time': array([0.05707145, 0.06805182, 0.04451728, 0.0441184 , 0.0484755 ]), 'score_time': array([0.00769687, 0.00977731, 0.00573277, 0.00586414, 0.0056808 ]), 'test_score': array([0.7       , 0.7       , 0.74444444, 0.77777778, 0.7       ]), 'train_score': array([0.92222222, 0.94722222, 0.91388889, 0.9       , 0.91111111])}\n",
      "{'fit_time': array([0.05604243, 0.05149317, 0.06219721, 0.05257177, 0.05502748]), 'score_time': array([0.00647998, 0.00564122, 0.01075244, 0.00575948, 0.01002407]), 'test_score': array([0.64444444, 0.67777778, 0.7       , 0.8       , 0.7       ]), 'train_score': array([1., 1., 1., 1., 1.])}\n"
     ]
    }
   ],
   "source": [
    "gridSearchDf = pd.DataFrame(columns=['Altura máxima', 'Criterio de corte', 'Accuracy (training)', 'Accuracy (valuacion)'])\n",
    "def gridsearch(max_depth, criterio):\n",
    "    kfold = KFold(n_splits=5, shuffle=True, random_state=23)\n",
    "    tree = DecisionTreeClassifier(max_depth=max_depth,criterion = criterio)\n",
    "    results = cross_validate(tree, X_dev, y_dev, cv=kfold, return_train_score=True)\n",
    "    print(results)\n",
    "    return (results[\"train_score\"].mean(), results[\"test_score\"].mean())\n",
    "\n",
    "criterios = [\"gini\", \"entropy\"]\n",
    "profuncdidades = [3,5,None]\n",
    "\n",
    "for criterio in criterios:\n",
    "    for profundidad in profuncdidades:\n",
    "        search = gridsearch(profundidad,criterio)\n",
    "        gridSearchDf.loc[len(gridSearchDf)] = [profundidad, criterio, search[0], search[1]]"
   ]
  },
  {
   "cell_type": "code",
   "execution_count": 15,
   "metadata": {
    "cell_id": "46fa8e624e0b4013a1d872c7c884e3c3",
    "deepnote_cell_type": "code",
    "deepnote_table_invalid": false,
    "deepnote_table_loading": false,
    "deepnote_table_state": {
     "conditionalFilters": [],
     "filters": [],
     "pageIndex": 0,
     "pageSize": 10,
     "sortBy": []
    },
    "execution_context_id": "8b493b1a-9f14-4824-905c-7cc684144bc2",
    "execution_millis": 1,
    "execution_start": 1728405248555,
    "source_hash": "effa9864"
   },
   "outputs": [
    {
     "data": {
      "application/vnd.deepnote.dataframe.v3+json": {
       "column_count": 4,
       "columns": [
        {
         "dtype": "object",
         "name": "Altura máxima",
         "stats": {
          "categories": [
           {
            "count": 2,
            "name": "3"
           },
           {
            "count": 2,
            "name": "5"
           },
           {
            "count": 2,
            "name": "Infinito"
           }
          ],
          "nan_count": 0,
          "unique_count": 3
         }
        },
        {
         "dtype": "object",
         "name": "Criterio de corte",
         "stats": {
          "categories": [
           {
            "count": 3,
            "name": "gini"
           },
           {
            "count": 3,
            "name": "entropy"
           }
          ],
          "nan_count": 0,
          "unique_count": 2
         }
        },
        {
         "dtype": "float64",
         "name": "Accuracy (training)",
         "stats": {
          "histogram": [
           {
            "bin_end": 0.834,
            "bin_start": 0.8155555555555555,
            "count": 1
           },
           {
            "bin_end": 0.8524444444444443,
            "bin_start": 0.834,
            "count": 1
           },
           {
            "bin_end": 0.8708888888888888,
            "bin_start": 0.8524444444444443,
            "count": 0
           },
           {
            "bin_end": 0.8893333333333333,
            "bin_start": 0.8708888888888888,
            "count": 0
           },
           {
            "bin_end": 0.9077777777777778,
            "bin_start": 0.8893333333333333,
            "count": 0
           },
           {
            "bin_end": 0.9262222222222222,
            "bin_start": 0.9077777777777778,
            "count": 1
           },
           {
            "bin_end": 0.9446666666666667,
            "bin_start": 0.9262222222222222,
            "count": 0
           },
           {
            "bin_end": 0.963111111111111,
            "bin_start": 0.9446666666666667,
            "count": 1
           },
           {
            "bin_end": 0.9815555555555555,
            "bin_start": 0.963111111111111,
            "count": 0
           },
           {
            "bin_end": 1,
            "bin_start": 0.9815555555555555,
            "count": 2
           }
          ],
          "max": "1.0",
          "min": "0.8155555555555555",
          "nan_count": 0,
          "unique_count": 5
         }
        },
        {
         "dtype": "float64",
         "name": "Accuracy (valuacion)",
         "stats": {
          "histogram": [
           {
            "bin_end": 0.7104444444444444,
            "bin_start": 0.7044444444444444,
            "count": 1
           },
           {
            "bin_end": 0.7164444444444444,
            "bin_start": 0.7104444444444444,
            "count": 0
           },
           {
            "bin_end": 0.7224444444444444,
            "bin_start": 0.7164444444444444,
            "count": 1
           },
           {
            "bin_end": 0.7284444444444444,
            "bin_start": 0.7224444444444444,
            "count": 1
           },
           {
            "bin_end": 0.7344444444444445,
            "bin_start": 0.7284444444444444,
            "count": 1
           },
           {
            "bin_end": 0.7404444444444443,
            "bin_start": 0.7344444444444445,
            "count": 0
           },
           {
            "bin_end": 0.7464444444444444,
            "bin_start": 0.7404444444444443,
            "count": 1
           },
           {
            "bin_end": 0.7524444444444444,
            "bin_start": 0.7464444444444444,
            "count": 0
           },
           {
            "bin_end": 0.7584444444444444,
            "bin_start": 0.7524444444444444,
            "count": 0
           },
           {
            "bin_end": 0.7644444444444444,
            "bin_start": 0.7584444444444444,
            "count": 1
           }
          ],
          "max": "0.7644444444444444",
          "min": "0.7044444444444444",
          "nan_count": 0,
          "unique_count": 6
         }
        },
        {
         "dtype": "int64",
         "name": "_deepnote_index_column"
        }
       ],
       "row_count": 6,
       "rows": [
        {
         "Accuracy (training)": 0.8422222222222222,
         "Accuracy (valuacion)": 0.7422222222222222,
         "Altura máxima": "3",
         "Criterio de corte": "gini",
         "_deepnote_index_column": 0
        },
        {
         "Accuracy (training)": 0.9455555555555556,
         "Accuracy (valuacion)": 0.7288888888888889,
         "Altura máxima": "5",
         "Criterio de corte": "gini",
         "_deepnote_index_column": 1
        },
        {
         "Accuracy (training)": 1,
         "Accuracy (valuacion)": 0.7222222222222222,
         "Altura máxima": "Infinito",
         "Criterio de corte": "gini",
         "_deepnote_index_column": 2
        },
        {
         "Accuracy (training)": 0.8155555555555555,
         "Accuracy (valuacion)": 0.7644444444444444,
         "Altura máxima": "3",
         "Criterio de corte": "entropy",
         "_deepnote_index_column": 3
        },
        {
         "Accuracy (training)": 0.9188888888888889,
         "Accuracy (valuacion)": 0.7244444444444443,
         "Altura máxima": "5",
         "Criterio de corte": "entropy",
         "_deepnote_index_column": 4
        },
        {
         "Accuracy (training)": 1,
         "Accuracy (valuacion)": 0.7044444444444444,
         "Altura máxima": "Infinito",
         "Criterio de corte": "entropy",
         "_deepnote_index_column": 5
        }
       ]
      },
      "text/html": [
       "<div>\n",
       "<style scoped>\n",
       "    .dataframe tbody tr th:only-of-type {\n",
       "        vertical-align: middle;\n",
       "    }\n",
       "\n",
       "    .dataframe tbody tr th {\n",
       "        vertical-align: top;\n",
       "    }\n",
       "\n",
       "    .dataframe thead th {\n",
       "        text-align: right;\n",
       "    }\n",
       "</style>\n",
       "<table border=\"1\" class=\"dataframe\">\n",
       "  <thead>\n",
       "    <tr style=\"text-align: right;\">\n",
       "      <th></th>\n",
       "      <th>Altura máxima</th>\n",
       "      <th>Criterio de corte</th>\n",
       "      <th>Accuracy (training)</th>\n",
       "      <th>Accuracy (valuacion)</th>\n",
       "    </tr>\n",
       "  </thead>\n",
       "  <tbody>\n",
       "    <tr>\n",
       "      <th>0</th>\n",
       "      <td>3</td>\n",
       "      <td>gini</td>\n",
       "      <td>0.842222</td>\n",
       "      <td>0.742222</td>\n",
       "    </tr>\n",
       "    <tr>\n",
       "      <th>1</th>\n",
       "      <td>5</td>\n",
       "      <td>gini</td>\n",
       "      <td>0.945556</td>\n",
       "      <td>0.728889</td>\n",
       "    </tr>\n",
       "    <tr>\n",
       "      <th>2</th>\n",
       "      <td>Infinito</td>\n",
       "      <td>gini</td>\n",
       "      <td>1.000000</td>\n",
       "      <td>0.722222</td>\n",
       "    </tr>\n",
       "    <tr>\n",
       "      <th>3</th>\n",
       "      <td>3</td>\n",
       "      <td>entropy</td>\n",
       "      <td>0.815556</td>\n",
       "      <td>0.764444</td>\n",
       "    </tr>\n",
       "    <tr>\n",
       "      <th>4</th>\n",
       "      <td>5</td>\n",
       "      <td>entropy</td>\n",
       "      <td>0.918889</td>\n",
       "      <td>0.724444</td>\n",
       "    </tr>\n",
       "    <tr>\n",
       "      <th>5</th>\n",
       "      <td>Infinito</td>\n",
       "      <td>entropy</td>\n",
       "      <td>1.000000</td>\n",
       "      <td>0.704444</td>\n",
       "    </tr>\n",
       "  </tbody>\n",
       "</table>\n",
       "</div>"
      ],
      "text/plain": [
       "  Altura máxima Criterio de corte  Accuracy (training)  Accuracy (valuacion)\n",
       "0             3              gini             0.842222              0.742222\n",
       "1             5              gini             0.945556              0.728889\n",
       "2      Infinito              gini             1.000000              0.722222\n",
       "3             3           entropy             0.815556              0.764444\n",
       "4             5           entropy             0.918889              0.724444\n",
       "5      Infinito           entropy             1.000000              0.704444"
      ]
     },
     "metadata": {},
     "output_type": "display_data"
    }
   ],
   "source": [
    "gridSearchDf.loc[2, 'Altura máxima'] = 'Infinito'\n",
    "gridSearchDf.loc[5, 'Altura máxima'] = 'Infinito'\n",
    "display(gridSearchDf)"
   ]
  },
  {
   "cell_type": "code",
   "execution_count": 16,
   "metadata": {
    "cell_id": "e76b34baccb04ecca07194a46ff6f4f7",
    "deepnote_cell_type": "code",
    "execution_context_id": "8b493b1a-9f14-4824-905c-7cc684144bc2",
    "execution_millis": 0,
    "execution_start": 1728405248607,
    "source_hash": "9b371643"
   },
   "outputs": [],
   "source": [
    "#gridSearchDf = pd.DataFrame(columns=['Altura máxima', 'Criterio de corte', 'Accuracy (training)', 'Accuracy (valuacion)'])\n"
   ]
  },
  {
   "cell_type": "markdown",
   "metadata": {
    "cell_id": "ccf1fc103a6e4a08b39ad9a4a78ca9ce",
    "deepnote_cell_type": "text-cell-h1",
    "formattedRanges": []
   },
   "source": [
    "# 3"
   ]
  },
  {
   "cell_type": "markdown",
   "metadata": {
    "cell_id": "70026c5555454d4da0605864d35f9782",
    "deepnote_cell_type": "text-cell-h2",
    "formattedRanges": []
   },
   "source": [
    "## 3.1"
   ]
  },
  {
   "cell_type": "code",
   "execution_count": 17,
   "metadata": {
    "cell_id": "77a1126f069747ed959c5ef35aa329a4",
    "deepnote_cell_type": "code",
    "execution_context_id": "8b493b1a-9f14-4824-905c-7cc684144bc2",
    "execution_millis": 24009,
    "execution_start": 1728405248674,
    "source_hash": "95b40366"
   },
   "outputs": [
    {
     "data": {
      "text/html": [
       "<style>#sk-container-id-1 {color: black;background-color: white;}#sk-container-id-1 pre{padding: 0;}#sk-container-id-1 div.sk-toggleable {background-color: white;}#sk-container-id-1 label.sk-toggleable__label {cursor: pointer;display: block;width: 100%;margin-bottom: 0;padding: 0.3em;box-sizing: border-box;text-align: center;}#sk-container-id-1 label.sk-toggleable__label-arrow:before {content: \"▸\";float: left;margin-right: 0.25em;color: #696969;}#sk-container-id-1 label.sk-toggleable__label-arrow:hover:before {color: black;}#sk-container-id-1 div.sk-estimator:hover label.sk-toggleable__label-arrow:before {color: black;}#sk-container-id-1 div.sk-toggleable__content {max-height: 0;max-width: 0;overflow: hidden;text-align: left;background-color: #f0f8ff;}#sk-container-id-1 div.sk-toggleable__content pre {margin: 0.2em;color: black;border-radius: 0.25em;background-color: #f0f8ff;}#sk-container-id-1 input.sk-toggleable__control:checked~div.sk-toggleable__content {max-height: 200px;max-width: 100%;overflow: auto;}#sk-container-id-1 input.sk-toggleable__control:checked~label.sk-toggleable__label-arrow:before {content: \"▾\";}#sk-container-id-1 div.sk-estimator input.sk-toggleable__control:checked~label.sk-toggleable__label {background-color: #d4ebff;}#sk-container-id-1 div.sk-label input.sk-toggleable__control:checked~label.sk-toggleable__label {background-color: #d4ebff;}#sk-container-id-1 input.sk-hidden--visually {border: 0;clip: rect(1px 1px 1px 1px);clip: rect(1px, 1px, 1px, 1px);height: 1px;margin: -1px;overflow: hidden;padding: 0;position: absolute;width: 1px;}#sk-container-id-1 div.sk-estimator {font-family: monospace;background-color: #f0f8ff;border: 1px dotted black;border-radius: 0.25em;box-sizing: border-box;margin-bottom: 0.5em;}#sk-container-id-1 div.sk-estimator:hover {background-color: #d4ebff;}#sk-container-id-1 div.sk-parallel-item::after {content: \"\";width: 100%;border-bottom: 1px solid gray;flex-grow: 1;}#sk-container-id-1 div.sk-label:hover label.sk-toggleable__label {background-color: #d4ebff;}#sk-container-id-1 div.sk-serial::before {content: \"\";position: absolute;border-left: 1px solid gray;box-sizing: border-box;top: 0;bottom: 0;left: 50%;z-index: 0;}#sk-container-id-1 div.sk-serial {display: flex;flex-direction: column;align-items: center;background-color: white;padding-right: 0.2em;padding-left: 0.2em;position: relative;}#sk-container-id-1 div.sk-item {position: relative;z-index: 1;}#sk-container-id-1 div.sk-parallel {display: flex;align-items: stretch;justify-content: center;background-color: white;position: relative;}#sk-container-id-1 div.sk-item::before, #sk-container-id-1 div.sk-parallel-item::before {content: \"\";position: absolute;border-left: 1px solid gray;box-sizing: border-box;top: 0;bottom: 0;left: 50%;z-index: -1;}#sk-container-id-1 div.sk-parallel-item {display: flex;flex-direction: column;z-index: 1;position: relative;background-color: white;}#sk-container-id-1 div.sk-parallel-item:first-child::after {align-self: flex-end;width: 50%;}#sk-container-id-1 div.sk-parallel-item:last-child::after {align-self: flex-start;width: 50%;}#sk-container-id-1 div.sk-parallel-item:only-child::after {width: 0;}#sk-container-id-1 div.sk-dashed-wrapped {border: 1px dashed gray;margin: 0 0.4em 0.5em 0.4em;box-sizing: border-box;padding-bottom: 0.4em;background-color: white;}#sk-container-id-1 div.sk-label label {font-family: monospace;font-weight: bold;display: inline-block;line-height: 1.2em;}#sk-container-id-1 div.sk-label-container {text-align: center;}#sk-container-id-1 div.sk-container {/* jupyter's `normalize.less` sets `[hidden] { display: none; }` but bootstrap.min.css set `[hidden] { display: none !important; }` so we also need the `!important` here to be able to override the default hidden behavior on the sphinx rendered scikit-learn.org. See: https://github.com/scikit-learn/scikit-learn/issues/21755 */display: inline-block !important;position: relative;}#sk-container-id-1 div.sk-text-repr-fallback {display: none;}</style><div id=\"sk-container-id-1\" class=\"sk-top-container\"><div class=\"sk-text-repr-fallback\"><pre>RandomizedSearchCV(cv=5,\n",
       "                   estimator=DecisionTreeClassifier(max_depth=3,\n",
       "                                                    random_state=23),\n",
       "                   n_iter=100, n_jobs=-1,\n",
       "                   param_distributions={&#x27;criterion&#x27;: [&#x27;gini&#x27;, &#x27;entropy&#x27;],\n",
       "                                        &#x27;max_depth&#x27;: &lt;scipy.stats._distn_infrastructure.rv_discrete_frozen object at 0x7f9310ef9130&gt;,\n",
       "                                        &#x27;min_samples_leaf&#x27;: &lt;scipy.stats._distn_infrastructure.rv_discrete_frozen object at 0x7f9310ef9f70&gt;,\n",
       "                                        &#x27;min_samples_split&#x27;: &lt;scipy.stats._distn_infrastructure.rv_discrete_frozen object at 0x7f9310f00190&gt;},\n",
       "                   random_state=42, scoring=&#x27;roc_auc&#x27;)</pre><b>In a Jupyter environment, please rerun this cell to show the HTML representation or trust the notebook. <br />On GitHub, the HTML representation is unable to render, please try loading this page with nbviewer.org.</b></div><div class=\"sk-container\" hidden><div class=\"sk-item sk-dashed-wrapped\"><div class=\"sk-label-container\"><div class=\"sk-label sk-toggleable\"><input class=\"sk-toggleable__control sk-hidden--visually\" id=\"sk-estimator-id-1\" type=\"checkbox\" ><label for=\"sk-estimator-id-1\" class=\"sk-toggleable__label sk-toggleable__label-arrow\">RandomizedSearchCV</label><div class=\"sk-toggleable__content\"><pre>RandomizedSearchCV(cv=5,\n",
       "                   estimator=DecisionTreeClassifier(max_depth=3,\n",
       "                                                    random_state=23),\n",
       "                   n_iter=100, n_jobs=-1,\n",
       "                   param_distributions={&#x27;criterion&#x27;: [&#x27;gini&#x27;, &#x27;entropy&#x27;],\n",
       "                                        &#x27;max_depth&#x27;: &lt;scipy.stats._distn_infrastructure.rv_discrete_frozen object at 0x7f9310ef9130&gt;,\n",
       "                                        &#x27;min_samples_leaf&#x27;: &lt;scipy.stats._distn_infrastructure.rv_discrete_frozen object at 0x7f9310ef9f70&gt;,\n",
       "                                        &#x27;min_samples_split&#x27;: &lt;scipy.stats._distn_infrastructure.rv_discrete_frozen object at 0x7f9310f00190&gt;},\n",
       "                   random_state=42, scoring=&#x27;roc_auc&#x27;)</pre></div></div></div><div class=\"sk-parallel\"><div class=\"sk-parallel-item\"><div class=\"sk-item\"><div class=\"sk-label-container\"><div class=\"sk-label sk-toggleable\"><input class=\"sk-toggleable__control sk-hidden--visually\" id=\"sk-estimator-id-2\" type=\"checkbox\" ><label for=\"sk-estimator-id-2\" class=\"sk-toggleable__label sk-toggleable__label-arrow\">estimator: DecisionTreeClassifier</label><div class=\"sk-toggleable__content\"><pre>DecisionTreeClassifier(max_depth=3, random_state=23)</pre></div></div></div><div class=\"sk-serial\"><div class=\"sk-item\"><div class=\"sk-estimator sk-toggleable\"><input class=\"sk-toggleable__control sk-hidden--visually\" id=\"sk-estimator-id-3\" type=\"checkbox\" ><label for=\"sk-estimator-id-3\" class=\"sk-toggleable__label sk-toggleable__label-arrow\">DecisionTreeClassifier</label><div class=\"sk-toggleable__content\"><pre>DecisionTreeClassifier(max_depth=3, random_state=23)</pre></div></div></div></div></div></div></div></div></div></div>"
      ],
      "text/plain": [
       "RandomizedSearchCV(cv=5,\n",
       "                   estimator=DecisionTreeClassifier(max_depth=3,\n",
       "                                                    random_state=23),\n",
       "                   n_iter=100, n_jobs=-1,\n",
       "                   param_distributions={'criterion': ['gini', 'entropy'],\n",
       "                                        'max_depth': <scipy.stats._distn_infrastructure.rv_discrete_frozen object at 0x7f9310ef9130>,\n",
       "                                        'min_samples_leaf': <scipy.stats._distn_infrastructure.rv_discrete_frozen object at 0x7f9310ef9f70>,\n",
       "                                        'min_samples_split': <scipy.stats._distn_infrastructure.rv_discrete_frozen object at 0x7f9310f00190>},\n",
       "                   random_state=42, scoring='roc_auc')"
      ]
     },
     "execution_count": 17,
     "metadata": {},
     "output_type": "execute_result"
    }
   ],
   "source": [
    "param_dist = { \n",
    "    'criterion': ['gini', 'entropy'],                   # Función de medida de la calidad de una división\n",
    "    'max_depth': randint(1, 20),                        # Profundidad máxima del árbol\n",
    "    'min_samples_split': randint(2, 20),                # Mínimo de muestras requeridas para dividir un nodo\n",
    "    'min_samples_leaf': randint(1, 20)                  # Mínimo de muestras en un nodo hoja\n",
    "}\n",
    "\n",
    "# Configurar RandomizedSearchCV\n",
    "random_search_DT = RandomizedSearchCV(\n",
    "    estimator=tree,                    # El modelo base\n",
    "    param_distributions=param_dist,  # El espacio de búsqueda\n",
    "    n_iter=100,                      # Número de combinaciones aleatorias a probar\n",
    "    scoring='roc_auc',           # Métrica de evaluación (en este caso, AUC para problemas multiclase)\n",
    "    cv=5,                            # Número de folds para cross-validation\n",
    "    random_state=42,                 # Semilla para reproducibilidad\n",
    "    n_jobs=-1                        # Usar todos los núcleos disponibles\n",
    ")\n",
    "random_search_DT.fit(X_dev, y_dev)"
   ]
  },
  {
   "cell_type": "code",
   "execution_count": 18,
   "metadata": {
    "cell_id": "682402690871407fa3d6b7d603a3a9c1",
    "deepnote_cell_type": "code",
    "execution_context_id": "8b493b1a-9f14-4824-905c-7cc684144bc2",
    "execution_millis": 25997,
    "execution_start": 1728405272727,
    "source_hash": "181668f8"
   },
   "outputs": [
    {
     "data": {
      "text/html": [
       "<style>#sk-container-id-2 {color: black;background-color: white;}#sk-container-id-2 pre{padding: 0;}#sk-container-id-2 div.sk-toggleable {background-color: white;}#sk-container-id-2 label.sk-toggleable__label {cursor: pointer;display: block;width: 100%;margin-bottom: 0;padding: 0.3em;box-sizing: border-box;text-align: center;}#sk-container-id-2 label.sk-toggleable__label-arrow:before {content: \"▸\";float: left;margin-right: 0.25em;color: #696969;}#sk-container-id-2 label.sk-toggleable__label-arrow:hover:before {color: black;}#sk-container-id-2 div.sk-estimator:hover label.sk-toggleable__label-arrow:before {color: black;}#sk-container-id-2 div.sk-toggleable__content {max-height: 0;max-width: 0;overflow: hidden;text-align: left;background-color: #f0f8ff;}#sk-container-id-2 div.sk-toggleable__content pre {margin: 0.2em;color: black;border-radius: 0.25em;background-color: #f0f8ff;}#sk-container-id-2 input.sk-toggleable__control:checked~div.sk-toggleable__content {max-height: 200px;max-width: 100%;overflow: auto;}#sk-container-id-2 input.sk-toggleable__control:checked~label.sk-toggleable__label-arrow:before {content: \"▾\";}#sk-container-id-2 div.sk-estimator input.sk-toggleable__control:checked~label.sk-toggleable__label {background-color: #d4ebff;}#sk-container-id-2 div.sk-label input.sk-toggleable__control:checked~label.sk-toggleable__label {background-color: #d4ebff;}#sk-container-id-2 input.sk-hidden--visually {border: 0;clip: rect(1px 1px 1px 1px);clip: rect(1px, 1px, 1px, 1px);height: 1px;margin: -1px;overflow: hidden;padding: 0;position: absolute;width: 1px;}#sk-container-id-2 div.sk-estimator {font-family: monospace;background-color: #f0f8ff;border: 1px dotted black;border-radius: 0.25em;box-sizing: border-box;margin-bottom: 0.5em;}#sk-container-id-2 div.sk-estimator:hover {background-color: #d4ebff;}#sk-container-id-2 div.sk-parallel-item::after {content: \"\";width: 100%;border-bottom: 1px solid gray;flex-grow: 1;}#sk-container-id-2 div.sk-label:hover label.sk-toggleable__label {background-color: #d4ebff;}#sk-container-id-2 div.sk-serial::before {content: \"\";position: absolute;border-left: 1px solid gray;box-sizing: border-box;top: 0;bottom: 0;left: 50%;z-index: 0;}#sk-container-id-2 div.sk-serial {display: flex;flex-direction: column;align-items: center;background-color: white;padding-right: 0.2em;padding-left: 0.2em;position: relative;}#sk-container-id-2 div.sk-item {position: relative;z-index: 1;}#sk-container-id-2 div.sk-parallel {display: flex;align-items: stretch;justify-content: center;background-color: white;position: relative;}#sk-container-id-2 div.sk-item::before, #sk-container-id-2 div.sk-parallel-item::before {content: \"\";position: absolute;border-left: 1px solid gray;box-sizing: border-box;top: 0;bottom: 0;left: 50%;z-index: -1;}#sk-container-id-2 div.sk-parallel-item {display: flex;flex-direction: column;z-index: 1;position: relative;background-color: white;}#sk-container-id-2 div.sk-parallel-item:first-child::after {align-self: flex-end;width: 50%;}#sk-container-id-2 div.sk-parallel-item:last-child::after {align-self: flex-start;width: 50%;}#sk-container-id-2 div.sk-parallel-item:only-child::after {width: 0;}#sk-container-id-2 div.sk-dashed-wrapped {border: 1px dashed gray;margin: 0 0.4em 0.5em 0.4em;box-sizing: border-box;padding-bottom: 0.4em;background-color: white;}#sk-container-id-2 div.sk-label label {font-family: monospace;font-weight: bold;display: inline-block;line-height: 1.2em;}#sk-container-id-2 div.sk-label-container {text-align: center;}#sk-container-id-2 div.sk-container {/* jupyter's `normalize.less` sets `[hidden] { display: none; }` but bootstrap.min.css set `[hidden] { display: none !important; }` so we also need the `!important` here to be able to override the default hidden behavior on the sphinx rendered scikit-learn.org. See: https://github.com/scikit-learn/scikit-learn/issues/21755 */display: inline-block !important;position: relative;}#sk-container-id-2 div.sk-text-repr-fallback {display: none;}</style><div id=\"sk-container-id-2\" class=\"sk-top-container\"><div class=\"sk-text-repr-fallback\"><pre>RandomizedSearchCV(cv=5, estimator=KNeighborsClassifier(), n_iter=50, n_jobs=-1,\n",
       "                   param_distributions={&#x27;n_neighbors&#x27;: &lt;scipy.stats._distn_infrastructure.rv_discrete_frozen object at 0x7f9310e699a0&gt;,\n",
       "                                        &#x27;p&#x27;: &lt;scipy.stats._distn_infrastructure.rv_discrete_frozen object at 0x7f9310e64c40&gt;,\n",
       "                                        &#x27;weights&#x27;: [&#x27;uniform&#x27;, &#x27;distance&#x27;]},\n",
       "                   random_state=42, scoring=&#x27;roc_auc&#x27;)</pre><b>In a Jupyter environment, please rerun this cell to show the HTML representation or trust the notebook. <br />On GitHub, the HTML representation is unable to render, please try loading this page with nbviewer.org.</b></div><div class=\"sk-container\" hidden><div class=\"sk-item sk-dashed-wrapped\"><div class=\"sk-label-container\"><div class=\"sk-label sk-toggleable\"><input class=\"sk-toggleable__control sk-hidden--visually\" id=\"sk-estimator-id-4\" type=\"checkbox\" ><label for=\"sk-estimator-id-4\" class=\"sk-toggleable__label sk-toggleable__label-arrow\">RandomizedSearchCV</label><div class=\"sk-toggleable__content\"><pre>RandomizedSearchCV(cv=5, estimator=KNeighborsClassifier(), n_iter=50, n_jobs=-1,\n",
       "                   param_distributions={&#x27;n_neighbors&#x27;: &lt;scipy.stats._distn_infrastructure.rv_discrete_frozen object at 0x7f9310e699a0&gt;,\n",
       "                                        &#x27;p&#x27;: &lt;scipy.stats._distn_infrastructure.rv_discrete_frozen object at 0x7f9310e64c40&gt;,\n",
       "                                        &#x27;weights&#x27;: [&#x27;uniform&#x27;, &#x27;distance&#x27;]},\n",
       "                   random_state=42, scoring=&#x27;roc_auc&#x27;)</pre></div></div></div><div class=\"sk-parallel\"><div class=\"sk-parallel-item\"><div class=\"sk-item\"><div class=\"sk-label-container\"><div class=\"sk-label sk-toggleable\"><input class=\"sk-toggleable__control sk-hidden--visually\" id=\"sk-estimator-id-5\" type=\"checkbox\" ><label for=\"sk-estimator-id-5\" class=\"sk-toggleable__label sk-toggleable__label-arrow\">estimator: KNeighborsClassifier</label><div class=\"sk-toggleable__content\"><pre>KNeighborsClassifier()</pre></div></div></div><div class=\"sk-serial\"><div class=\"sk-item\"><div class=\"sk-estimator sk-toggleable\"><input class=\"sk-toggleable__control sk-hidden--visually\" id=\"sk-estimator-id-6\" type=\"checkbox\" ><label for=\"sk-estimator-id-6\" class=\"sk-toggleable__label sk-toggleable__label-arrow\">KNeighborsClassifier</label><div class=\"sk-toggleable__content\"><pre>KNeighborsClassifier()</pre></div></div></div></div></div></div></div></div></div></div>"
      ],
      "text/plain": [
       "RandomizedSearchCV(cv=5, estimator=KNeighborsClassifier(), n_iter=50, n_jobs=-1,\n",
       "                   param_distributions={'n_neighbors': <scipy.stats._distn_infrastructure.rv_discrete_frozen object at 0x7f9310e699a0>,\n",
       "                                        'p': <scipy.stats._distn_infrastructure.rv_discrete_frozen object at 0x7f9310e64c40>,\n",
       "                                        'weights': ['uniform', 'distance']},\n",
       "                   random_state=42, scoring='roc_auc')"
      ]
     },
     "execution_count": 18,
     "metadata": {},
     "output_type": "execute_result"
    }
   ],
   "source": [
    "# Crear un modelo KNN\n",
    "knn = KNeighborsClassifier()\n",
    "\n",
    "# Definir los hiperparámetros a probar\n",
    "param_dist = {\n",
    "    'n_neighbors': randint(1, 30),         # Número de vecinos, explorando valores entre 1 y 30\n",
    "    'weights': ['uniform', 'distance'],    # Pesos: uniforme o por distancia\n",
    "    'p': randint(1, 5)                     # Exponente de la distancia Minkowski (1: Manhattan, 2: Euclidean, etc.)\n",
    "}\n",
    "\n",
    "# Configurar RandomizedSearchCV\n",
    "random_search_KNN = RandomizedSearchCV(\n",
    "    estimator=knn,\n",
    "    param_distributions=param_dist,\n",
    "    n_iter=50,                            # Número de combinaciones a probar\n",
    "    cv=5,                                 # Validación cruzada con 5 particiones\n",
    "    scoring='roc_auc',                # Métrica a optimizar\n",
    "    random_state=42,                      # Asegurar reproducibilidad\n",
    "    n_jobs=-1                             # Usar todos los núcleos disponibles\n",
    ")\n",
    "\n",
    "# Ajustar el modelo\n",
    "random_search_KNN.fit(X_dev, y_dev)\n"
   ]
  },
  {
   "cell_type": "code",
   "execution_count": 19,
   "metadata": {
    "cell_id": "90edc8d971554460be1745316b3e450b",
    "deepnote_cell_type": "code",
    "execution_context_id": "8b493b1a-9f14-4824-905c-7cc684144bc2",
    "execution_millis": 31636,
    "execution_start": 1728405298767,
    "source_hash": "18865c19"
   },
   "outputs": [
    {
     "data": {
      "text/html": [
       "<style>#sk-container-id-3 {color: black;background-color: white;}#sk-container-id-3 pre{padding: 0;}#sk-container-id-3 div.sk-toggleable {background-color: white;}#sk-container-id-3 label.sk-toggleable__label {cursor: pointer;display: block;width: 100%;margin-bottom: 0;padding: 0.3em;box-sizing: border-box;text-align: center;}#sk-container-id-3 label.sk-toggleable__label-arrow:before {content: \"▸\";float: left;margin-right: 0.25em;color: #696969;}#sk-container-id-3 label.sk-toggleable__label-arrow:hover:before {color: black;}#sk-container-id-3 div.sk-estimator:hover label.sk-toggleable__label-arrow:before {color: black;}#sk-container-id-3 div.sk-toggleable__content {max-height: 0;max-width: 0;overflow: hidden;text-align: left;background-color: #f0f8ff;}#sk-container-id-3 div.sk-toggleable__content pre {margin: 0.2em;color: black;border-radius: 0.25em;background-color: #f0f8ff;}#sk-container-id-3 input.sk-toggleable__control:checked~div.sk-toggleable__content {max-height: 200px;max-width: 100%;overflow: auto;}#sk-container-id-3 input.sk-toggleable__control:checked~label.sk-toggleable__label-arrow:before {content: \"▾\";}#sk-container-id-3 div.sk-estimator input.sk-toggleable__control:checked~label.sk-toggleable__label {background-color: #d4ebff;}#sk-container-id-3 div.sk-label input.sk-toggleable__control:checked~label.sk-toggleable__label {background-color: #d4ebff;}#sk-container-id-3 input.sk-hidden--visually {border: 0;clip: rect(1px 1px 1px 1px);clip: rect(1px, 1px, 1px, 1px);height: 1px;margin: -1px;overflow: hidden;padding: 0;position: absolute;width: 1px;}#sk-container-id-3 div.sk-estimator {font-family: monospace;background-color: #f0f8ff;border: 1px dotted black;border-radius: 0.25em;box-sizing: border-box;margin-bottom: 0.5em;}#sk-container-id-3 div.sk-estimator:hover {background-color: #d4ebff;}#sk-container-id-3 div.sk-parallel-item::after {content: \"\";width: 100%;border-bottom: 1px solid gray;flex-grow: 1;}#sk-container-id-3 div.sk-label:hover label.sk-toggleable__label {background-color: #d4ebff;}#sk-container-id-3 div.sk-serial::before {content: \"\";position: absolute;border-left: 1px solid gray;box-sizing: border-box;top: 0;bottom: 0;left: 50%;z-index: 0;}#sk-container-id-3 div.sk-serial {display: flex;flex-direction: column;align-items: center;background-color: white;padding-right: 0.2em;padding-left: 0.2em;position: relative;}#sk-container-id-3 div.sk-item {position: relative;z-index: 1;}#sk-container-id-3 div.sk-parallel {display: flex;align-items: stretch;justify-content: center;background-color: white;position: relative;}#sk-container-id-3 div.sk-item::before, #sk-container-id-3 div.sk-parallel-item::before {content: \"\";position: absolute;border-left: 1px solid gray;box-sizing: border-box;top: 0;bottom: 0;left: 50%;z-index: -1;}#sk-container-id-3 div.sk-parallel-item {display: flex;flex-direction: column;z-index: 1;position: relative;background-color: white;}#sk-container-id-3 div.sk-parallel-item:first-child::after {align-self: flex-end;width: 50%;}#sk-container-id-3 div.sk-parallel-item:last-child::after {align-self: flex-start;width: 50%;}#sk-container-id-3 div.sk-parallel-item:only-child::after {width: 0;}#sk-container-id-3 div.sk-dashed-wrapped {border: 1px dashed gray;margin: 0 0.4em 0.5em 0.4em;box-sizing: border-box;padding-bottom: 0.4em;background-color: white;}#sk-container-id-3 div.sk-label label {font-family: monospace;font-weight: bold;display: inline-block;line-height: 1.2em;}#sk-container-id-3 div.sk-label-container {text-align: center;}#sk-container-id-3 div.sk-container {/* jupyter's `normalize.less` sets `[hidden] { display: none; }` but bootstrap.min.css set `[hidden] { display: none !important; }` so we also need the `!important` here to be able to override the default hidden behavior on the sphinx rendered scikit-learn.org. See: https://github.com/scikit-learn/scikit-learn/issues/21755 */display: inline-block !important;position: relative;}#sk-container-id-3 div.sk-text-repr-fallback {display: none;}</style><div id=\"sk-container-id-3\" class=\"sk-top-container\"><div class=\"sk-text-repr-fallback\"><pre>RandomizedSearchCV(cv=5, estimator=SVC(probability=True), n_iter=50, n_jobs=-1,\n",
       "                   param_distributions={&#x27;C&#x27;: &lt;scipy.stats._distn_infrastructure.rv_continuous_frozen object at 0x7f9310eb6df0&gt;,\n",
       "                                        &#x27;degree&#x27;: &lt;scipy.stats._distn_infrastructure.rv_discrete_frozen object at 0x7f9310ef9af0&gt;,\n",
       "                                        &#x27;kernel&#x27;: [&#x27;linear&#x27;, &#x27;rbf&#x27;, &#x27;poly&#x27;]},\n",
       "                   random_state=42, scoring=&#x27;roc_auc&#x27;)</pre><b>In a Jupyter environment, please rerun this cell to show the HTML representation or trust the notebook. <br />On GitHub, the HTML representation is unable to render, please try loading this page with nbviewer.org.</b></div><div class=\"sk-container\" hidden><div class=\"sk-item sk-dashed-wrapped\"><div class=\"sk-label-container\"><div class=\"sk-label sk-toggleable\"><input class=\"sk-toggleable__control sk-hidden--visually\" id=\"sk-estimator-id-7\" type=\"checkbox\" ><label for=\"sk-estimator-id-7\" class=\"sk-toggleable__label sk-toggleable__label-arrow\">RandomizedSearchCV</label><div class=\"sk-toggleable__content\"><pre>RandomizedSearchCV(cv=5, estimator=SVC(probability=True), n_iter=50, n_jobs=-1,\n",
       "                   param_distributions={&#x27;C&#x27;: &lt;scipy.stats._distn_infrastructure.rv_continuous_frozen object at 0x7f9310eb6df0&gt;,\n",
       "                                        &#x27;degree&#x27;: &lt;scipy.stats._distn_infrastructure.rv_discrete_frozen object at 0x7f9310ef9af0&gt;,\n",
       "                                        &#x27;kernel&#x27;: [&#x27;linear&#x27;, &#x27;rbf&#x27;, &#x27;poly&#x27;]},\n",
       "                   random_state=42, scoring=&#x27;roc_auc&#x27;)</pre></div></div></div><div class=\"sk-parallel\"><div class=\"sk-parallel-item\"><div class=\"sk-item\"><div class=\"sk-label-container\"><div class=\"sk-label sk-toggleable\"><input class=\"sk-toggleable__control sk-hidden--visually\" id=\"sk-estimator-id-8\" type=\"checkbox\" ><label for=\"sk-estimator-id-8\" class=\"sk-toggleable__label sk-toggleable__label-arrow\">estimator: SVC</label><div class=\"sk-toggleable__content\"><pre>SVC(probability=True)</pre></div></div></div><div class=\"sk-serial\"><div class=\"sk-item\"><div class=\"sk-estimator sk-toggleable\"><input class=\"sk-toggleable__control sk-hidden--visually\" id=\"sk-estimator-id-9\" type=\"checkbox\" ><label for=\"sk-estimator-id-9\" class=\"sk-toggleable__label sk-toggleable__label-arrow\">SVC</label><div class=\"sk-toggleable__content\"><pre>SVC(probability=True)</pre></div></div></div></div></div></div></div></div></div></div>"
      ],
      "text/plain": [
       "RandomizedSearchCV(cv=5, estimator=SVC(probability=True), n_iter=50, n_jobs=-1,\n",
       "                   param_distributions={'C': <scipy.stats._distn_infrastructure.rv_continuous_frozen object at 0x7f9310eb6df0>,\n",
       "                                        'degree': <scipy.stats._distn_infrastructure.rv_discrete_frozen object at 0x7f9310ef9af0>,\n",
       "                                        'kernel': ['linear', 'rbf', 'poly']},\n",
       "                   random_state=42, scoring='roc_auc')"
      ]
     },
     "execution_count": 19,
     "metadata": {},
     "output_type": "execute_result"
    }
   ],
   "source": [
    "# Crear un modelo SVM\n",
    "svm = SVC(probability=True)  # Se debe establecer `probability=True` para poder calcular el AUC ROC\n",
    "\n",
    "# Definir los hiperparámetros a probar\n",
    "param_dist = {\n",
    "    'C': uniform(0.1, 10),               # Valores de C entre 0.1 y 10\n",
    "    'kernel': ['linear', 'rbf', 'poly'], # Tipos de kernel a explorar\n",
    "    'degree': randint(2, 5)              # Grado del polinomio (relevante solo para el kernel 'poly')\n",
    "}\n",
    "\n",
    "# Configurar RandomizedSearchCV\n",
    "random_search_SVM = RandomizedSearchCV(\n",
    "    estimator=svm,\n",
    "    param_distributions=param_dist,\n",
    "    n_iter=50,                           # Número de combinaciones aleatorias a probar\n",
    "    cv=5,                                # Validación cruzada con 5 particiones\n",
    "    scoring='roc_auc',               # Métrica de AUC ROC para problemas multiclase\n",
    "    random_state=42,                     # Reproducibilidad\n",
    "    n_jobs=-1                            # Usar todos los núcleos disponibles\n",
    ")\n",
    "\n",
    "# Ajustar el modelo\n",
    "random_search_SVM.fit(X_dev, y_dev)\n",
    "\n",
    "# Imprimir los mejores parámetros y el mejor score"
   ]
  },
  {
   "cell_type": "code",
   "execution_count": 20,
   "metadata": {
    "cell_id": "87abaff10ffe4e4097027ed87cce72ee",
    "deepnote_cell_type": "code",
    "execution_context_id": "8b493b1a-9f14-4824-905c-7cc684144bc2",
    "execution_millis": 0,
    "execution_start": 1728405330448,
    "source_hash": "358d38e7"
   },
   "outputs": [
    {
     "name": "stdout",
     "output_type": "stream",
     "text": [
      "Mejores parámetros para KNN: {'n_neighbors': 21, 'p': 1, 'weights': 'distance'}\n",
      "Mejor AUCROC: 0.8723556132381571\n",
      "Mejores hiperparámetros para DT: {'criterion': 'entropy', 'max_depth': 3, 'min_samples_leaf': 17, 'min_samples_split': 6}\n",
      "Mejor AUCROC: 0.7317975340687866\n",
      "Mejores parámetros para SVM: {'C': 2.9975145291376806, 'degree': 3, 'kernel': 'rbf'}\n",
      "Mejor AUCROC: 0.9011031797534068\n"
     ]
    }
   ],
   "source": [
    "\n",
    "# Imprimir los mejores parámetros y el mejor score\n",
    "print(\"Mejores parámetros para KNN:\", random_search_KNN.best_params_)\n",
    "print(\"Mejor AUCROC:\", random_search_KNN.best_score_)\n",
    "\n",
    "print(\"Mejores hiperparámetros para DT:\", random_search_DT.best_params_)\n",
    "print(\"Mejor AUCROC:\", random_search_DT.best_score_)\n",
    "\n",
    "print(\"Mejores parámetros para SVM:\", random_search_SVM.best_params_)\n",
    "print(\"Mejor AUCROC:\", random_search_SVM.best_score_)"
   ]
  },
  {
   "cell_type": "markdown",
   "metadata": {
    "cell_id": "0833ee16310e467dad43f2b643daaeab",
    "deepnote_cell_type": "text-cell-h2",
    "formattedRanges": []
   },
   "source": [
    "## 3.2"
   ]
  },
  {
   "cell_type": "code",
   "execution_count": 21,
   "metadata": {
    "cell_id": "d708cce8ff3b4bb1ad9782d517a9f703",
    "deepnote_cell_type": "code",
    "execution_context_id": "8b493b1a-9f14-4824-905c-7cc684144bc2",
    "execution_millis": 544,
    "execution_start": 1728405330515,
    "source_hash": "7f425b0b"
   },
   "outputs": [
    {
     "name": "stdout",
     "output_type": "stream",
     "text": [
      "Exactitud del modelo LDA: 0.9422222222222222\n",
      "Auc roc del modelo LDA: 0.9155094094743673\n"
     ]
    }
   ],
   "source": [
    "lda = LinearDiscriminantAnalysis()\n",
    "lda.fit(X_dev, y_dev)\n",
    "y_pred = lda.predict(X_dev)\n",
    "print(\"Exactitud del modelo LDA:\", accuracy_score(y_dev, y_pred))\n",
    "print(\"Auc roc del modelo LDA:\", roc_auc_score(y_dev, y_pred))"
   ]
  },
  {
   "cell_type": "code",
   "execution_count": 22,
   "metadata": {
    "cell_id": "820d811c9d1e446a86672a56181ed7a4",
    "deepnote_cell_type": "code",
    "execution_context_id": "8b493b1a-9f14-4824-905c-7cc684144bc2",
    "execution_millis": 17,
    "execution_start": 1728405331160,
    "source_hash": "d055516a"
   },
   "outputs": [
    {
     "name": "stdout",
     "output_type": "stream",
     "text": [
      "Exactitud del modelo Naive Bayes: 0.9177777777777778\n",
      "Auc roc del modelo NB: 0.8905256327060351\n"
     ]
    }
   ],
   "source": [
    "bn = GaussianNB()\n",
    "bn.fit(X_dev, y_dev)\n",
    "y_pred = bn.predict(X_dev)\n",
    "print(\"Exactitud del modelo Naive Bayes:\", accuracy_score(y_dev, y_pred))\n",
    "print(\"Auc roc del modelo NB:\", roc_auc_score(y_dev, y_pred))"
   ]
  },
  {
   "cell_type": "markdown",
   "metadata": {
    "cell_id": "61701a7c66dd4cc5a96bb7d4aadb5d28",
    "deepnote_cell_type": "text-cell-h2",
    "formattedRanges": []
   },
   "source": [
    "## 3.3"
   ]
  },
  {
   "cell_type": "markdown",
   "metadata": {
    "cell_id": "4678afb90aee4297a7f79eaa0f26e5b7",
    "deepnote_cell_type": "text-cell-h1",
    "formattedRanges": []
   },
   "source": [
    "# 4"
   ]
  },
  {
   "cell_type": "markdown",
   "metadata": {
    "cell_id": "6b07def0c6944db68594438227db25ca",
    "deepnote_cell_type": "text-cell-h2",
    "formattedRanges": []
   },
   "source": [
    "## 4.1"
   ]
  },
  {
   "cell_type": "code",
   "execution_count": 23,
   "metadata": {
    "cell_id": "9a70140f1efb41a4b9e0bc28e27fc6fd",
    "deepnote_cell_type": "code",
    "execution_context_id": "8b493b1a-9f14-4824-905c-7cc684144bc2",
    "execution_millis": 6890,
    "execution_start": 1728405331235,
    "source_hash": "b41dffa3"
   },
   "outputs": [
    {
     "data": {
      "image/png": "[encoded data removed]",
      "text/plain": [
       "<Figure size 1000x600 with 1 Axes>"
      ]
     },
     "metadata": {
      "image/png": {
       "height": 547,
       "width": 846
      }
     },
     "output_type": "display_data"
    }
   ],
   "source": [
    "# Definir los valores de la profundidad máxima para evaluar\n",
    "max_depth_range = np.arange(1,10)\n",
    "\n",
    "# Utilizar validation_curve para evaluar el rendimiento del modelo en función de max_depth\n",
    "train_scores, val_scores = validation_curve(\n",
    "    SVC(probability=True,\n",
    "        C = 2.9975145291376806,\n",
    "        degree = 3,\n",
    "        kernel = 'rbf'),\n",
    "    X_dev,\n",
    "    y_dev,\n",
    "    param_name=\"C\",\n",
    "    param_range=max_depth_range,\n",
    "    cv=5,\n",
    "    scoring=\"roc_auc\"\n",
    ")\n",
    "\n",
    "# Calcular la media y la desviación estándar de los puntajes de entrenamiento y validación\n",
    "train_mean = np.mean(train_scores, axis=1)\n",
    "train_std = np.std(train_scores, axis=1)\n",
    "val_mean = np.mean(val_scores, axis=1)\n",
    "val_std = np.std(val_scores, axis=1)\n",
    "\n",
    "# Graficar las curvas de complejidad\n",
    "plt.figure(figsize=(10, 6))\n",
    "plt.plot(max_depth_range, train_mean, label=\"Exactitud en Entrenamiento\", color=\"b\")\n",
    "plt.fill_between(max_depth_range, train_mean - train_std, train_mean + train_std, color=\"b\", alpha=0.2)\n",
    "plt.plot(max_depth_range, val_mean, label=\"Exactitud en Validación\", color=\"r\")\n",
    "plt.fill_between(max_depth_range, val_mean - val_std, val_mean + val_std, color=\"r\", alpha=0.2)\n",
    "plt.xlabel(\"Tolerancia del soporte\")\n",
    "plt.ylabel(\"AUC_ROC\")\n",
    "plt.ylim(.2,1.1)\n",
    "plt.title(\"Curvas de Complejidad de un SVM\")\n",
    "plt.legend(loc=\"best\")\n",
    "plt.grid(True)\n",
    "plt.show()"
   ]
  },
  {
   "cell_type": "code",
   "execution_count": 24,
   "metadata": {
    "cell_id": "7cabc129fdc2458a935d0400c2369209",
    "deepnote_cell_type": "code",
    "execution_context_id": "8b493b1a-9f14-4824-905c-7cc684144bc2",
    "execution_millis": 4130,
    "execution_start": 1728405338167,
    "source_hash": "653ae26c"
   },
   "outputs": [
    {
     "data": {
      "image/png": "[encoded data removed]",
      "text/plain": [
       "<Figure size 1000x600 with 1 Axes>"
      ]
     },
     "metadata": {
      "image/png": {
       "height": 550,
       "width": 846
      }
     },
     "output_type": "display_data"
    }
   ],
   "source": [
    "# Definir los valores de la profundidad máxima para evaluar\n",
    "max_depth_range = np.arange(1, 15)\n",
    "\n",
    "# Utilizar validation_curve para evaluar el rendimiento del modelo en función de max_depth\n",
    "train_scores, val_scores = validation_curve(\n",
    "    DecisionTreeClassifier(criterion='entropy',\n",
    "                           max_depth= 3,\n",
    "                           min_samples_leaf= 17,\n",
    "                           min_samples_split= 6),\n",
    "    X_dev,\n",
    "    y_dev,\n",
    "    param_name=\"max_depth\",\n",
    "    param_range=max_depth_range,\n",
    "    cv=5,\n",
    "    scoring=\"roc_auc\"\n",
    ")\n",
    "\n",
    "# Calcular la media y la desviación estándar de los puntajes de entrenamiento y validación\n",
    "train_mean = np.mean(train_scores, axis=1)\n",
    "train_std = np.std(train_scores, axis=1)\n",
    "val_mean = np.mean(val_scores, axis=1)\n",
    "val_std = np.std(val_scores, axis=1)\n",
    "\n",
    "# Graficar las curvas de complejidad\n",
    "plt.figure(figsize=(10, 6))\n",
    "plt.plot(max_depth_range, train_mean, label=\"Exactitud en Entrenamiento\", color=\"b\")\n",
    "plt.fill_between(max_depth_range, train_mean - train_std, train_mean + train_std, color=\"b\", alpha=0.2)\n",
    "plt.plot(max_depth_range, val_mean, label=\"Exactitud en Validación\", color=\"r\")\n",
    "plt.fill_between(max_depth_range, val_mean - val_std, val_mean + val_std, color=\"r\", alpha=0.2)\n",
    "plt.xlabel(\"Profundidad Máxima del Árbol\")\n",
    "plt.ylabel(\"AUC_ROC\")\n",
    "plt.ylim(.2,1.1)\n",
    "plt.title(\"Curvas de Complejidad de un Árbol de Decisión\")\n",
    "plt.legend(loc=\"best\")\n",
    "plt.grid(True)\n",
    "plt.show()"
   ]
  },
  {
   "cell_type": "markdown",
   "metadata": {
    "cell_id": "a093f4d5263348e395476258e779689c",
    "deepnote_cell_type": "text-cell-h2",
    "formattedRanges": []
   },
   "source": [
    "## 4.2"
   ]
  },
  {
   "cell_type": "code",
   "execution_count": 25,
   "metadata": {
    "cell_id": "09626079da0544aeb6744994ecefb1a5",
    "deepnote_cell_type": "code",
    "execution_context_id": "8b493b1a-9f14-4824-905c-7cc684144bc2",
    "execution_millis": 2106,
    "execution_start": 1728405342351,
    "source_hash": "91f439cb"
   },
   "outputs": [
    {
     "data": {
      "image/png": "[encoded data removed]",
      "text/plain": [
       "<Figure size 1000x600 with 1 Axes>"
      ]
     },
     "metadata": {
      "image/png": {
       "height": 547,
       "width": 846
      }
     },
     "output_type": "display_data"
    }
   ],
   "source": [
    "# Definir el modelo DT\n",
    "model = DecisionTreeClassifier(criterion ='entropy', max_depth = 3, min_samples_leaf = 17, min_samples_split = 6)\n",
    "\n",
    "cv = StratifiedKFold(n_splits=5, shuffle=True, random_state=42)\n",
    "\n",
    "# Generar la curva de aprendizaje\n",
    "train_sizes, train_scores, val_scores = learning_curve(\n",
    "    model, X_dev, y_dev, cv=cv, \n",
    "    train_sizes=np.linspace(0.1, 1.0, 10), random_state=42\n",
    ")\n",
    "\n",
    "# Calcular la media y la desviación estándar de los puntajes de entrenamiento y validación\n",
    "train_mean = np.mean(train_scores, axis=1)\n",
    "train_std = np.std(train_scores, axis=1)\n",
    "val_mean = np.mean(val_scores, axis=1)\n",
    "val_std = np.std(val_scores, axis=1)\n",
    "\n",
    "# Graficar la curva de aprendizaje\n",
    "plt.figure(figsize=(10, 6))\n",
    "plt.plot(train_sizes, train_mean, label='AUC_ROC en Entrenamiento', color='b')\n",
    "plt.fill_between(train_sizes, train_mean - train_std, train_mean + train_std, color='b', alpha=0.2)\n",
    "plt.plot(train_sizes, val_mean, label='AUC_ROC en Validación', color='r')\n",
    "plt.fill_between(train_sizes, val_mean - val_std, val_mean + val_std, color='r', alpha=0.2)\n",
    "plt.xlabel('Tamaño del Conjunto de Entrenamiento')\n",
    "plt.ylabel('AUC_ROC')\n",
    "plt.ylim(.2,1.1)\n",
    "plt.title('Curva de Aprendizaje para DT')\n",
    "plt.legend(loc='best')\n",
    "plt.grid(True)\n",
    "plt.show()\n"
   ]
  },
  {
   "cell_type": "code",
   "execution_count": 26,
   "metadata": {
    "allow_embed": false,
    "cell_id": "9be822cbae3e4a8fb825cee4fc2230e3",
    "deepnote_cell_type": "code",
    "execution_context_id": "8b493b1a-9f14-4824-905c-7cc684144bc2",
    "execution_millis": 3900,
    "execution_start": 1728405344519,
    "source_hash": "bb1db43d"
   },
   "outputs": [
    {
     "data": {
      "image/png": "[encoded data removed]",
      "text/plain": [
       "<Figure size 1000x600 with 1 Axes>"
      ]
     },
     "metadata": {
      "image/png": {
       "height": 547,
       "width": 846
      }
     },
     "output_type": "display_data"
    }
   ],
   "source": [
    "# Definir el modelo LDA\n",
    "model = SVC(probability=True, C = 2.9975145291376806, degree = 3, kernel = 'rbf')\n",
    "\n",
    "# Generar la curva de aprendizaje\n",
    "train_sizes, train_scores, val_scores = learning_curve(\n",
    "    model, X_dev, y_dev, cv=5, scoring='roc_auc',\n",
    "    train_sizes=np.linspace(0.1, 1.0, 10), random_state=42\n",
    ")\n",
    "\n",
    "# Calcular la media y la desviación estándar de los puntajes de entrenamiento y validación\n",
    "train_mean = np.mean(train_scores, axis=1)\n",
    "train_std = np.std(train_scores, axis=1)\n",
    "val_mean = np.mean(val_scores, axis=1)\n",
    "val_std = np.std(val_scores, axis=1)\n",
    "\n",
    "# Graficar la curva de aprendizaje\n",
    "plt.figure(figsize=(10, 6))\n",
    "plt.plot(train_sizes, train_mean, label='AUC_ROC en Entrenamiento', color='b')\n",
    "plt.fill_between(train_sizes, train_mean - train_std, train_mean + train_std, color='b', alpha=0.2)\n",
    "plt.plot(train_sizes, val_mean, label='AUC_ROC en Validación', color='r')\n",
    "plt.fill_between(train_sizes, val_mean - val_std, val_mean + val_std, color='r', alpha=0.2)\n",
    "plt.xlabel('Tamaño del Conjunto de Entrenamiento')\n",
    "plt.ylabel('AUC_ROC')\n",
    "plt.ylim(.2,1.1)\n",
    "plt.title('Curva de Aprendizaje para SVM')\n",
    "plt.legend(loc='best')\n",
    "plt.grid(True)\n",
    "plt.show()\n"
   ]
  },
  {
   "cell_type": "code",
   "execution_count": 27,
   "metadata": {
    "allow_embed": false,
    "cell_id": "b86855198bcd4fbdbec5ef7130d5e891",
    "deepnote_cell_type": "code",
    "execution_context_id": "8b493b1a-9f14-4824-905c-7cc684144bc2",
    "execution_millis": 26656,
    "execution_start": 1728405348479,
    "source_hash": "90daaac8"
   },
   "outputs": [
    {
     "data": {
      "image/png": "[encoded data removed]",
      "text/plain": [
       "<Figure size 1000x600 with 1 Axes>"
      ]
     },
     "metadata": {
      "image/png": {
       "height": 547,
       "width": 846
      }
     },
     "output_type": "display_data"
    }
   ],
   "source": [
    "# Definir el modelo LDA\n",
    "model = LinearDiscriminantAnalysis()\n",
    "\n",
    "# Generar la curva de aprendizaje\n",
    "train_sizes, train_scores, val_scores = learning_curve(\n",
    "    model, X_dev, y_dev, cv=5, \n",
    "    train_sizes=np.linspace(0.1, 1.0, 10), random_state=42\n",
    ")\n",
    "\n",
    "# Calcular la media y la desviación estándar de los puntajes de entrenamiento y validación\n",
    "train_mean = np.mean(train_scores, axis=1)\n",
    "train_std = np.std(train_scores, axis=1)\n",
    "val_mean = np.mean(val_scores, axis=1)\n",
    "val_std = np.std(val_scores, axis=1)\n",
    "\n",
    "# Graficar la curva de aprendizaje\n",
    "plt.figure(figsize=(10, 6))\n",
    "plt.plot(train_sizes, train_mean, label='AUC_ROC en Entrenamiento', color='b')\n",
    "plt.fill_between(train_sizes, train_mean - train_std, train_mean + train_std, color='b', alpha=0.2)\n",
    "plt.plot(train_sizes, val_mean, label='AUC_ROC en Validación', color='r')\n",
    "plt.fill_between(train_sizes, val_mean - val_std, val_mean + val_std, color='r', alpha=0.2)\n",
    "plt.xlabel('Tamaño del Conjunto de Entrenamiento')\n",
    "plt.ylabel('AUC_ROC')\n",
    "plt.ylim(.2,1.1)\n",
    "plt.title('Curva de Aprendizaje para LDA')\n",
    "plt.legend(loc='best')\n",
    "plt.grid(True)\n",
    "plt.show()\n"
   ]
  },
  {
   "cell_type": "markdown",
   "metadata": {
    "cell_id": "253b8dd3ce9f483db5b3855999b88c5f",
    "deepnote_cell_type": "text-cell-h2",
    "formattedRanges": []
   },
   "source": [
    "## 4.3"
   ]
  },
  {
   "cell_type": "code",
   "execution_count": 29,
   "metadata": {
    "cell_id": "40d399d78d774527a01a688a90e76189",
    "deepnote_cell_type": "code",
    "execution_context_id": "8b493b1a-9f14-4824-905c-7cc684144bc2",
    "execution_millis": 221556,
    "execution_start": 1728405594059,
    "source_hash": "8e650f5c"
   },
   "outputs": [
    {
     "data": {
      "image/png": "[encoded data removed]",
      "text/plain": [
       "<Figure size 1000x600 with 1 Axes>"
      ]
     },
     "metadata": {
      "image/png": {
       "height": 547,
       "width": 846
      }
     },
     "output_type": "display_data"
    }
   ],
   "source": [
    "# Definir los valores de la profundidad máxima para evaluar\n",
    "max_depth_range = np.linspace(0.1, 1.0, 10)  # Proporciones de atributos a evaluar\n",
    "\n",
    "# Utilizar validation_curve para evaluar el rendimiento del modelo en función de max_depth\n",
    "train_scores, val_scores = validation_curve(\n",
    "    RandomForestClassifier( n_estimators=200,\n",
    "                            random_state=42),\n",
    "    X_dev,\n",
    "    y_dev,\n",
    "    param_name=\"max_features\",\n",
    "    param_range=max_depth_range,\n",
    "    cv=5,\n",
    "    scoring=\"roc_auc\"\n",
    ")\n",
    "\n",
    "# Calcular la media y la desviación estándar de los puntajes de entrenamiento y validación\n",
    "train_mean = np.mean(train_scores, axis=1)\n",
    "train_std = np.std(train_scores, axis=1)\n",
    "val_mean = np.mean(val_scores, axis=1)\n",
    "val_std = np.std(val_scores, axis=1)\n",
    "\n",
    "# Graficar las curvas de complejidad\n",
    "plt.figure(figsize=(10, 6))\n",
    "plt.plot(max_depth_range, train_mean, label=\"Exactitud en Entrenamiento\", color=\"b\")\n",
    "plt.fill_between(max_depth_range, train_mean - train_std, train_mean + train_std, color=\"b\", alpha=0.2)\n",
    "plt.plot(max_depth_range, val_mean, label=\"Exactitud en Validación\", color=\"r\")\n",
    "plt.fill_between(max_depth_range, val_mean - val_std, val_mean + val_std, color=\"r\", alpha=0.2)\n",
    "plt.xlabel(\"Proporcion de Atributos\")\n",
    "plt.ylabel(\"AUC_ROC\")\n",
    "plt.ylim(.2,1.1)\n",
    "plt.title(\"Curvas de Complejidad de un RF\")\n",
    "plt.legend(loc=\"best\")\n",
    "plt.grid(True)\n",
    "plt.show()"
   ]
  },
  {
   "cell_type": "code",
   "execution_count": 30,
   "metadata": {
    "cell_id": "7c9710470d7d45358a458c2fd54611d5",
    "deepnote_cell_type": "code",
    "execution_context_id": "8b493b1a-9f14-4824-905c-7cc684144bc2",
    "execution_millis": 0,
    "execution_start": 1728405815667,
    "source_hash": "f31eb4e"
   },
   "outputs": [
    {
     "data": {
      "text/plain": [
       "0.2"
      ]
     },
     "execution_count": 30,
     "metadata": {},
     "output_type": "execute_result"
    }
   ],
   "source": [
    "best_max_feature = max_features_values[np.argmax(scores)]\n",
    "best_max_feature"
   ]
  },
  {
   "cell_type": "code",
   "execution_count": 33,
   "metadata": {
    "cell_id": "474d0342b9644489ad9f98f05c368bc3",
    "deepnote_cell_type": "code",
    "execution_context_id": "8b493b1a-9f14-4824-905c-7cc684144bc2",
    "execution_millis": 47676,
    "execution_start": 1728405864543,
    "source_hash": "f47ac90b"
   },
   "outputs": [
    {
     "data": {
      "image/png": "[encoded data removed]",
      "text/plain": [
       "<Figure size 1000x600 with 1 Axes>"
      ]
     },
     "metadata": {
      "image/png": {
       "height": 547,
       "width": 846
      }
     },
     "output_type": "display_data"
    }
   ],
   "source": [
    "# Definir el modelo RF\n",
    "model = RandomForestClassifier(n_estimators=200, max_features=best_max_feature, random_state=42)\n",
    "# Generar la curva de aprendizaje\n",
    "train_sizes, train_scores, val_scores = learning_curve(\n",
    "    model, X_dev, y_dev, cv=5,\n",
    "    train_sizes=np.linspace(0.1, 1.0, 10), random_state=42\n",
    ")\n",
    "\n",
    "# Calcular la media y la desviación estándar de los puntajes de entrenamiento y validación\n",
    "train_mean = np.mean(train_scores, axis=1)\n",
    "train_std = np.std(train_scores, axis=1)\n",
    "val_mean = np.mean(val_scores, axis=1)\n",
    "val_std = np.std(val_scores, axis=1)\n",
    "\n",
    "# Graficar la curva de aprendizaje\n",
    "plt.figure(figsize=(10, 6))\n",
    "plt.plot(train_sizes, train_mean, label='AUC_ROC en Entrenamiento', color='b')\n",
    "plt.fill_between(train_sizes, train_mean - train_std, train_mean + train_std, color='b', alpha=0.2)\n",
    "plt.plot(train_sizes, val_mean, label='AUC_ROC en Validación', color='r')\n",
    "plt.fill_between(train_sizes, val_mean - val_std, val_mean + val_std, color='r', alpha=0.2)\n",
    "plt.xlabel('Tamaño del Conjunto de Entrenamiento')\n",
    "plt.ylabel('AUC_ROC')\n",
    "plt.ylim(.2,1.1)\n",
    "plt.title('Curva de Aprendizaje para Random Forest')\n",
    "plt.legend(loc='best')\n",
    "plt.grid(True)\n",
    "plt.show()\n"
   ]
  },
  {
   "cell_type": "markdown",
   "metadata": {
    "cell_id": "36ae78b1b51e4ec89ebc2ac9d463b366",
    "deepnote_cell_type": "text-cell-h1",
    "formattedRanges": []
   },
   "source": [
    "# 5"
   ]
  },
  {
   "cell_type": "code",
   "execution_count": 34,
   "metadata": {
    "cell_id": "2c779f36c7f641e48f4cfbbe49680868",
    "deepnote_cell_type": "code",
    "execution_context_id": "8b493b1a-9f14-4824-905c-7cc684144bc2",
    "execution_millis": 821,
    "execution_start": 1728405912279,
    "source_hash": "77c8e048"
   },
   "outputs": [
    {
     "name": "stdout",
     "output_type": "stream",
     "text": [
      "Auc roc del mejor modelo : 0.7286902286902286\n"
     ]
    }
   ],
   "source": [
    "mejor_modelo = SVC(probability=True,\n",
    "        C = 2.9975145291376806,\n",
    "        degree = 3,\n",
    "        kernel = 'rbf')\n",
    "mejor_modelo.fit(X_dev, y_dev)\n",
    "y_pred = mejor_modelo.predict(X_test)\n",
    "puntuacion = roc_auc_score(y_test, y_pred)\n",
    "print(\"Auc roc del mejor modelo :\", puntuacion)\n",
    "\n",
    "held_out = pd.read_csv(\"X_held_out.csv\")\n",
    "held_out_pred = mejor_modelo.predict(held_out)\n",
    "held_out_y = pd.DataFrame(held_out_pred, columns=[\"output\"])\n",
    "held_out_y.to_csv(f\"10_y_pred_held_out_{int(puntuacion*10000)}.csv\")"
   ]
  },
  {
   "cell_type": "markdown",
   "metadata": {
    "created_in_deepnote_cell": true,
    "deepnote_cell_type": "markdown"
   },
   "source": [
    "<a style='text-decoration:none;line-height:16px;display:flex;color:#5B5B62;padding:10px;justify-content:end;' href='https://deepnote.com?utm_source=created-in-deepnote-cell&projectId=a6137dc7-5398-4c87-bc25-94eb6809dab9' target=\"_blank\">\n",
    "<img alt='Created in deepnote.com' style='display:inline;max-height:16px;margin:0px;margin-right:7.5px;' src='data:image/svg+xml;base64,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' > </img>\n",
    "Created in <span style='font-weight:600;margin-left:4px;'>Deepnote</span></a>"
   ]
  }
 ],
 "metadata": {
  "deepnote_execution_queue": [],
  "deepnote_notebook_id": "5a60311ffc2644968a38f0fd2814d90c",
  "kernelspec": {
   "display_name": "Python 3 (ipykernel)",
   "language": "python",
   "name": "python3"
  },
  "language_info": {
   "codemirror_mode": {
    "name": "ipython",
    "version": 3
   },
   "file_extension": ".py",
   "mimetype": "text/x-python",
   "name": "python",
   "nbconvert_exporter": "python",
   "pygments_lexer": "ipython3",
   "version": "3.10.11"
  }
 },
 "nbformat": 4,
 "nbformat_minor": 1
}
